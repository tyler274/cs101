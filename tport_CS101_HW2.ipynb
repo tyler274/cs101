{
  "nbformat": 4,
  "nbformat_minor": 0,
  "metadata": {
    "colab": {
      "name": "tport_CS101_HW2.ipynb",
      "provenance": [],
      "collapsed_sections": [
        "OSVBwgrns982",
        "E4Ju6D1t3zFq"
      ],
      "include_colab_link": true
    },
    "kernelspec": {
      "display_name": "Python 3",
      "name": "python3"
    },
    "language_info": {
      "name": "python"
    }
  },
  "cells": [
    {
      "cell_type": "markdown",
      "metadata": {
        "id": "view-in-github",
        "colab_type": "text"
      },
      "source": [
        "<a href=\"https://colab.research.google.com/github/tyler274/cs101/blob/main/tport_CS101_HW2.ipynb\" target=\"_parent\"><img src=\"https://colab.research.google.com/assets/colab-badge.svg\" alt=\"Open In Colab\"/></a>"
      ]
    },
    {
      "cell_type": "markdown",
      "metadata": {
        "id": "oce1VYzORTBj"
      },
      "source": [
        "BEFORE YOU START:  Note that while you can execute cells in this notebook, you do not have permission to save the changed notebook.  (If we gave you permission, everybody's edits would interfere!).  So go to the \"File\" pull-down menu and choose \"save a copy in Drive\".  This will make a file \"Copy of Homework #2.ipynb\" in your Colab Notebooks directory in your Google Drive account, and that notebook will probably open in your browser automatically, depending on how you have things set up.  Rename to \"Homework #2 - [your name].ipynb\".  You can save your edits now.  To turn in the homework, you will use the Share menu in the upper right to give Edit privileges to gmatt.cook@gmail.com and to winfree@caltech.edu.  We will do the gradding by adding comments or text or commands."
      ]
    },
    {
      "cell_type": "markdown",
      "metadata": {
        "id": "rQ_Sh4ab8fyj"
      },
      "source": [
        "---\n",
        "### Here are the basic principles of this homework:\n",
        "(1)  You will implement the exclusion process at a low level, getting your hands dirty with the fundamentals.\n",
        "\n",
        "(2)  It doesn't matter if you write cool \"Pythonic\" code or not.  We are _only_ using Python/Colab, because (A) you probably already know a bit of Python (and if you don't, it's easy), (B) it's easy to give you usable code snippets, and (C) it's easy for us to try out your code.  We are *not* using Python/Colab because we want you to write great Pythonic code -- we don't care one way or the other about that.  We only care if you correctly implement the exclusion process on networks of relations.  Feel free to use whatever coding style is easiest for you.\n",
        "\n",
        "(3)  The goal is to become familiar with _coding_ the exclusion process.  You will (A) program it at a low level (proceeding exclusion by exclusion), and (B) see your code in action.  (We provide a bit of visualization code to help with that.)\n",
        "\n",
        "---\n",
        "### More specifically, in this homework you will: <br> (1) Write some code to help with defining relations <br> (2) Create a big network for an empty Sudoku puzzle out of little relations of size at most 3 <br> (3) Code up the exclusion process <br> (4) Apply your code to actual Sudoku puzzles\n",
        "---"
      ]
    },
    {
      "cell_type": "markdown",
      "metadata": {
        "id": "QX0tO7Len4M1"
      },
      "source": [
        "# Quick little Python cheat sheet (in case you're not very familiar with Python)"
      ]
    },
    {
      "cell_type": "markdown",
      "metadata": {
        "id": "0hwohz5jXdz-"
      },
      "source": [
        "Python is not a hard language to learn.\n",
        "<br>\n",
        "It is one of the few languages that was actually designed specifically to not be hard to learn.\n",
        "<br>\n",
        "Also, it has been around for 30 years, so any question you might have, the internet probably has an answer to."
      ]
    },
    {
      "cell_type": "markdown",
      "metadata": {
        "id": "oKv9UdgKnsPo"
      },
      "source": [
        "Make sure you understand the following tidbits of Python code.  Shift-Return executes a cell."
      ]
    },
    {
      "cell_type": "code",
      "metadata": {
        "colab": {
          "base_uri": "https://localhost:8080/"
        },
        "id": "--xkE1Dn4rFs",
        "outputId": "cf19116d-f02e-468d-9acc-b5a9370da159"
      },
      "source": [
        "[k for k in range(1,9) if k%2==1]    # notice the range includes 1 but not 9    # k%2 means \"k mod 2\", i.e., either 0 or 1"
      ],
      "execution_count": null,
      "outputs": [
        {
          "output_type": "execute_result",
          "data": {
            "text/plain": [
              "[1, 3, 5, 7]"
            ]
          },
          "metadata": {},
          "execution_count": 92
        }
      ]
    },
    {
      "cell_type": "code",
      "metadata": {
        "colab": {
          "base_uri": "https://localhost:8080/"
        },
        "id": "vtHjFHMZPd2K",
        "outputId": "c8253801-f5f6-46c1-addb-79b6be754341"
      },
      "source": [
        "a = [1,3,5,7]\n",
        "print(\"example A:\", a[2])    #  accessing an element of a list\n",
        "print(\"example B:\", a[0])    #  the first element of a list\n",
        "print(\"example C:\", a[-1])   #  the last element of a list\n",
        "print(\"example D:\", a[1:3])  #  elements in positions 1 (included) to 3 (not included)\n",
        "print(\"example E:\", a[1:])   #  all elements but the first\n",
        "print(\"example F:\", a[1:5:2])#  elements 1 (included) to 5 (not included) in steps of 2\n",
        "a[1]=33                      #  changing an element of a list\n",
        "print(\"example G:\", a)\n",
        "del a                        #  undefines a"
      ],
      "execution_count": null,
      "outputs": [
        {
          "output_type": "stream",
          "name": "stdout",
          "text": [
            "example A: 5\n",
            "example B: 1\n",
            "example C: 7\n",
            "example D: [3, 5]\n",
            "example E: [3, 5, 7]\n",
            "example F: [3, 7]\n",
            "example G: [1, 33, 5, 7]\n"
          ]
        }
      ]
    },
    {
      "cell_type": "code",
      "metadata": {
        "colab": {
          "base_uri": "https://localhost:8080/"
        },
        "id": "sTSXQMaHsOu3",
        "outputId": "9828cee7-8289-4601-88ae-7b6486574af5"
      },
      "source": [
        "[2,3,4] + [25,26,27]"
      ],
      "execution_count": null,
      "outputs": [
        {
          "output_type": "execute_result",
          "data": {
            "text/plain": [
              "[2, 3, 4, 25, 26, 27]"
            ]
          },
          "metadata": {},
          "execution_count": 94
        }
      ]
    },
    {
      "cell_type": "code",
      "metadata": {
        "colab": {
          "base_uri": "https://localhost:8080/"
        },
        "id": "d59jMFlMyvi3",
        "outputId": "3758ac7a-b180-405e-a01a-05471e583738"
      },
      "source": [
        "[ (i,j) for i in range(3) for j in [\"A\", \"B\"] ]     # here the result is one list, and j is the inner loop"
      ],
      "execution_count": null,
      "outputs": [
        {
          "output_type": "execute_result",
          "data": {
            "text/plain": [
              "[(0, 'A'), (0, 'B'), (1, 'A'), (1, 'B'), (2, 'A'), (2, 'B')]"
            ]
          },
          "metadata": {},
          "execution_count": 95
        }
      ]
    },
    {
      "cell_type": "code",
      "metadata": {
        "colab": {
          "base_uri": "https://localhost:8080/"
        },
        "id": "on_An16_y_H1",
        "outputId": "50ffc795-688a-4483-d23b-52de232dcc97"
      },
      "source": [
        "[[ (i,j) for i in range(3) ] for j in [\"A\", \"B\"] ]  # here the result is a list of lists, and i is the inner loop"
      ],
      "execution_count": null,
      "outputs": [
        {
          "output_type": "execute_result",
          "data": {
            "text/plain": [
              "[[(0, 'A'), (1, 'A'), (2, 'A')], [(0, 'B'), (1, 'B'), (2, 'B')]]"
            ]
          },
          "metadata": {},
          "execution_count": 96
        }
      ]
    },
    {
      "cell_type": "code",
      "metadata": {
        "colab": {
          "base_uri": "https://localhost:8080/"
        },
        "id": "KEmHnoSS8J_m",
        "outputId": "8afcd01d-feb5-4adb-ec20-bad96d2c91b9"
      },
      "source": [
        "for (i,j) in zip([1,2,3],[4,5,6]) :    # the zip() lets (i,j) iterate in parallel through the two lists\n",
        "  print(\"(i,j) = (\", i, \",\", j, \")\", sep='')    # sep='' tells print to not put spaces between items"
      ],
      "execution_count": null,
      "outputs": [
        {
          "output_type": "stream",
          "name": "stdout",
          "text": [
            "(i,j) = (1,4)\n",
            "(i,j) = (2,5)\n",
            "(i,j) = (3,6)\n"
          ]
        }
      ]
    },
    {
      "cell_type": "code",
      "metadata": {
        "colab": {
          "base_uri": "https://localhost:8080/"
        },
        "id": "SMSIcbSwh1RN",
        "outputId": "75ebd96b-fe75-43eb-a5b1-e1db700a7909"
      },
      "source": [
        "for (i,j) in zip([1,2,3],[4,5,6]) :    # the zip() lets (i,j) iterate in parallel through the two lists\n",
        "  print(f\"(i,j) = ({i},{j})\")          # an \"f-string\" evaluates and stringifies the parts inside {}"
      ],
      "execution_count": null,
      "outputs": [
        {
          "output_type": "stream",
          "name": "stdout",
          "text": [
            "(i,j) = (1,4)\n",
            "(i,j) = (2,5)\n",
            "(i,j) = (3,6)\n"
          ]
        }
      ]
    },
    {
      "cell_type": "code",
      "metadata": {
        "colab": {
          "base_uri": "https://localhost:8080/"
        },
        "id": "4eOdQPU7jWwZ",
        "outputId": "bab5eb85-f653-4289-8e48-bd13e9d5d1fd"
      },
      "source": [
        "print(1,2,(3,4),5,6)\n",
        "print(1,2,*(3,4),5,6)                  # the * means that the tuple should be used as multiple arguments"
      ],
      "execution_count": null,
      "outputs": [
        {
          "output_type": "stream",
          "name": "stdout",
          "text": [
            "1 2 (3, 4) 5 6\n",
            "1 2 3 4 5 6\n"
          ]
        }
      ]
    },
    {
      "cell_type": "code",
      "metadata": {
        "colab": {
          "base_uri": "https://localhost:8080/"
        },
        "id": "2-0s0uDMQmcU",
        "outputId": "159c7b74-d405-4eb7-9fd8-63b287037a4a"
      },
      "source": [
        "set([5,7,9,7,7,5])                  # returns a set containing these things, duplicates are removed"
      ],
      "execution_count": null,
      "outputs": [
        {
          "output_type": "execute_result",
          "data": {
            "text/plain": [
              "{5, 7, 9}"
            ]
          },
          "metadata": {},
          "execution_count": 100
        }
      ]
    },
    {
      "cell_type": "code",
      "metadata": {
        "colab": {
          "base_uri": "https://localhost:8080/"
        },
        "id": "O-syTWAsQxUD",
        "outputId": "1d0dcde3-3f8f-4c33-a84b-f66c6adc8e51"
      },
      "source": [
        "set([4,5,6]).union([6,7,8])         # take the union of a set (here constructed from an iterable) and any iterable object"
      ],
      "execution_count": null,
      "outputs": [
        {
          "output_type": "execute_result",
          "data": {
            "text/plain": [
              "{4, 5, 6, 7, 8}"
            ]
          },
          "metadata": {},
          "execution_count": 101
        }
      ]
    },
    {
      "cell_type": "code",
      "metadata": {
        "colab": {
          "base_uri": "https://localhost:8080/"
        },
        "id": "iC2NCOSgRL0-",
        "outputId": "1a9f16e2-cab0-41e5-af21-49d0881c6d0c"
      },
      "source": [
        "set([4,5,6]).intersection([5,6,7])  # take the intersection"
      ],
      "execution_count": null,
      "outputs": [
        {
          "output_type": "execute_result",
          "data": {
            "text/plain": [
              "{5, 6}"
            ]
          },
          "metadata": {},
          "execution_count": 102
        }
      ]
    },
    {
      "cell_type": "code",
      "metadata": {
        "id": "s-aKvwpMmqWY",
        "colab": {
          "base_uri": "https://localhost:8080/"
        },
        "outputId": "7c2b0acf-027e-43c9-a97d-7a7f7ce778f6"
      },
      "source": [
        "d = {var: pos for pos, var in enumerate(['a', 'bc', 'd'])}   # this creates a dictionary\n",
        "print(d)\n",
        "print(type(d))\n",
        "del d"
      ],
      "execution_count": null,
      "outputs": [
        {
          "output_type": "stream",
          "name": "stdout",
          "text": [
            "{'a': 0, 'bc': 1, 'd': 2}\n",
            "<class 'dict'>\n"
          ]
        }
      ]
    },
    {
      "cell_type": "code",
      "metadata": {
        "colab": {
          "base_uri": "https://localhost:8080/"
        },
        "id": "_mKisXJdx4Dx",
        "outputId": "7171962b-79ea-443b-dbf2-43d16dea6b18"
      },
      "source": [
        "a = [[2,3,4], [5,6,7], [8,9,10], [11,12,13], [14,15,16], [17,18,19]]\n",
        "b = a[1:]\n",
        "b.remove([8,9,10])  # find the first instance of this in the list, and remove it\n",
        "print(b)\n",
        "b.pop(2)            # remove the element at index 2\n",
        "print(b)\n",
        "print(a)\n",
        "c = a[1]\n",
        "c[1] = 999          # this changes a too!\n",
        "print(a)\n",
        "del a,b,c"
      ],
      "execution_count": null,
      "outputs": [
        {
          "output_type": "stream",
          "name": "stdout",
          "text": [
            "[[5, 6, 7], [11, 12, 13], [14, 15, 16], [17, 18, 19]]\n",
            "[[5, 6, 7], [11, 12, 13], [17, 18, 19]]\n",
            "[[2, 3, 4], [5, 6, 7], [8, 9, 10], [11, 12, 13], [14, 15, 16], [17, 18, 19]]\n",
            "[[2, 3, 4], [5, 999, 7], [8, 9, 10], [11, 12, 13], [14, 15, 16], [17, 18, 19]]\n"
          ]
        }
      ]
    },
    {
      "cell_type": "code",
      "metadata": {
        "colab": {
          "base_uri": "https://localhost:8080/"
        },
        "id": "_OThwJ8XArBn",
        "outputId": "2b5280fa-576c-4b2e-d815-01f39994b905"
      },
      "source": [
        "a=[2,3,4,5,6]\n",
        "b=a                      # now b and a point to the same list\n",
        "b[:] = ['a', 'b', 'c']   # this updates the contents of that list\n",
        "print(a)\n",
        "del a,b"
      ],
      "execution_count": null,
      "outputs": [
        {
          "output_type": "stream",
          "name": "stdout",
          "text": [
            "['a', 'b', 'c']\n"
          ]
        }
      ]
    },
    {
      "cell_type": "code",
      "metadata": {
        "colab": {
          "base_uri": "https://localhost:8080/",
          "height": 436
        },
        "id": "3vkn11D4_QKe",
        "outputId": "f3509986-0cfd-494d-a9f4-7294b511ab4e"
      },
      "source": [
        "def no_change_list(some_list) :\n",
        "  some_list = ['a', 'b', 'c']           # this makes some_list point to a different list\n",
        "                                        # whatever it used to point to is now hard to find\n",
        "  print(\"no:  inside no_change_list(), some_list is now\", some_list)\n",
        "\n",
        "a = [2,3,4,5,6]\n",
        "no_change_list(a)\n",
        "print(\"no:  after no_change_list(), a is\", a)\n",
        "\n",
        "a = 5\n",
        "no_change_list(a)\n",
        "print(\"no:  after no_change_list(), a is\", a)\n",
        "\n",
        "def change_list(some_list) :\n",
        "  some_list[:] = ['a', 'b', 'c']        # this changes the contents of the list some_list points to\n",
        "  print(\"yes:  inside change_list(), some_list is now\", some_list)\n",
        "\n",
        "a = [2,3,4,5,6]\n",
        "change_list(a)\n",
        "print(\"yes:  after change_list(), a is\", a)\n",
        "\n",
        "a = 5\n",
        "change_list(a) # generates an error when trying to change the list contents, because 5 is not a list\n",
        "print(\"yes:  after change_list(), a is\", a)"
      ],
      "execution_count": null,
      "outputs": [
        {
          "output_type": "stream",
          "name": "stdout",
          "text": [
            "no:  inside no_change_list(), some_list is now ['a', 'b', 'c']\n",
            "no:  after no_change_list(), a is [2, 3, 4, 5, 6]\n",
            "no:  inside no_change_list(), some_list is now ['a', 'b', 'c']\n",
            "no:  after no_change_list(), a is 5\n",
            "yes:  inside change_list(), some_list is now ['a', 'b', 'c']\n",
            "yes:  after change_list(), a is ['a', 'b', 'c']\n"
          ]
        },
        {
          "output_type": "error",
          "ename": "TypeError",
          "evalue": "ignored",
          "traceback": [
            "\u001b[0;31m---------------------------------------------------------------------------\u001b[0m",
            "\u001b[0;31mTypeError\u001b[0m                                 Traceback (most recent call last)",
            "\u001b[0;32m<ipython-input-110-0be984ae2cee>\u001b[0m in \u001b[0;36m<module>\u001b[0;34m()\u001b[0m\n\u001b[1;32m     21\u001b[0m \u001b[0;34m\u001b[0m\u001b[0m\n\u001b[1;32m     22\u001b[0m \u001b[0ma\u001b[0m \u001b[0;34m=\u001b[0m \u001b[0;36m5\u001b[0m\u001b[0;34m\u001b[0m\u001b[0;34m\u001b[0m\u001b[0m\n\u001b[0;32m---> 23\u001b[0;31m \u001b[0mchange_list\u001b[0m\u001b[0;34m(\u001b[0m\u001b[0ma\u001b[0m\u001b[0;34m)\u001b[0m \u001b[0;31m# generates an error when trying to change the list contents, because 5 is not a list\u001b[0m\u001b[0;34m\u001b[0m\u001b[0;34m\u001b[0m\u001b[0m\n\u001b[0m\u001b[1;32m     24\u001b[0m \u001b[0mprint\u001b[0m\u001b[0;34m(\u001b[0m\u001b[0;34m\"yes:  after change_list(), a is\"\u001b[0m\u001b[0;34m,\u001b[0m \u001b[0ma\u001b[0m\u001b[0;34m)\u001b[0m\u001b[0;34m\u001b[0m\u001b[0;34m\u001b[0m\u001b[0m\n",
            "\u001b[0;32m<ipython-input-110-0be984ae2cee>\u001b[0m in \u001b[0;36mchange_list\u001b[0;34m(some_list)\u001b[0m\n\u001b[1;32m     13\u001b[0m \u001b[0;34m\u001b[0m\u001b[0m\n\u001b[1;32m     14\u001b[0m \u001b[0;32mdef\u001b[0m \u001b[0mchange_list\u001b[0m\u001b[0;34m(\u001b[0m\u001b[0msome_list\u001b[0m\u001b[0;34m)\u001b[0m \u001b[0;34m:\u001b[0m\u001b[0;34m\u001b[0m\u001b[0;34m\u001b[0m\u001b[0m\n\u001b[0;32m---> 15\u001b[0;31m   \u001b[0msome_list\u001b[0m\u001b[0;34m[\u001b[0m\u001b[0;34m:\u001b[0m\u001b[0;34m]\u001b[0m \u001b[0;34m=\u001b[0m \u001b[0;34m[\u001b[0m\u001b[0;34m'a'\u001b[0m\u001b[0;34m,\u001b[0m \u001b[0;34m'b'\u001b[0m\u001b[0;34m,\u001b[0m \u001b[0;34m'c'\u001b[0m\u001b[0;34m]\u001b[0m        \u001b[0;31m# this changes the contents of the list some_list points to\u001b[0m\u001b[0;34m\u001b[0m\u001b[0;34m\u001b[0m\u001b[0m\n\u001b[0m\u001b[1;32m     16\u001b[0m   \u001b[0mprint\u001b[0m\u001b[0;34m(\u001b[0m\u001b[0;34m\"yes:  inside change_list(), some_list is now\"\u001b[0m\u001b[0;34m,\u001b[0m \u001b[0msome_list\u001b[0m\u001b[0;34m)\u001b[0m\u001b[0;34m\u001b[0m\u001b[0;34m\u001b[0m\u001b[0m\n\u001b[1;32m     17\u001b[0m \u001b[0;34m\u001b[0m\u001b[0m\n",
            "\u001b[0;31mTypeError\u001b[0m: 'int' object does not support item assignment"
          ]
        }
      ]
    },
    {
      "cell_type": "code",
      "metadata": {
        "id": "CvtDt9TACIZm"
      },
      "source": [
        "del a, change_list, no_change_list"
      ],
      "execution_count": null,
      "outputs": []
    },
    {
      "cell_type": "code",
      "metadata": {
        "colab": {
          "base_uri": "https://localhost:8080/"
        },
        "id": "l-fld3-vRo4B",
        "outputId": "613b63a0-117f-4811-f111-aeb598b8d5f7"
      },
      "source": [
        "arr = [0, 1, 2, 3, 4, 5, 6, 7, 8, 9, 10, 11, 12, 13, 14, 15, 16, 17, 18, 19, 20]\n",
        "for i,e in enumerate(arr) :\n",
        "  if i%5 == 3 : del arr[i]\n",
        "print(arr)                      # missing 3 and 9 and 15\n",
        "\n",
        "arr = [0, 1, 2, 3, 4, 5, 6, 7, 8, 9, 10, 11, 12, 13, 14, 15, 16, 17, 18, 19, 20]\n",
        "for i,e in reversed(list(enumerate(arr))) :\n",
        "  if i%5 == 3 : del arr[i]\n",
        "print(arr)                      # missing 3 and 8 and 13 and 18\n",
        "del arr"
      ],
      "execution_count": null,
      "outputs": [
        {
          "output_type": "stream",
          "name": "stdout",
          "text": [
            "[0, 1, 2, 4, 5, 6, 7, 8, 10, 11, 12, 13, 14, 16, 17, 18, 19, 20]\n",
            "[0, 1, 2, 4, 5, 6, 7, 9, 10, 11, 12, 14, 15, 16, 17, 19, 20]\n"
          ]
        }
      ]
    },
    {
      "cell_type": "code",
      "metadata": {
        "colab": {
          "base_uri": "https://localhost:8080/"
        },
        "id": "jpPJefSULJRL",
        "outputId": "f3f35ef6-bdea-4d5f-ab63-ed9476b0ef4f"
      },
      "source": [
        "import sys\n",
        "print(sys.version)"
      ],
      "execution_count": null,
      "outputs": [
        {
          "output_type": "stream",
          "name": "stdout",
          "text": [
            "3.7.12 (default, Sep 10 2021, 00:21:48) \n",
            "[GCC 7.5.0]\n"
          ]
        }
      ]
    },
    {
      "cell_type": "markdown",
      "metadata": {
        "id": "71FejPSyLR3l"
      },
      "source": [
        "The version number (currently 3.7) is important because if you look on the web for python features, some of the things you will find may only work in later versions of python (like 3.8 or 3.10), so they won't work here."
      ]
    },
    {
      "cell_type": "markdown",
      "metadata": {
        "id": "WIkgRpThI8Qq"
      },
      "source": [
        "Note that in this colab jupyter notebook, you can use mathjax (LaTeX syntax) in text boxes,\n",
        "<br>\n",
        "for when you want to talk about things like $\\frac{\\sqrt{1+x^2}}{\\det\\begin{bmatrix}a & b\\\\c & d\\end{bmatrix}}$."
      ]
    },
    {
      "cell_type": "markdown",
      "metadata": {
        "id": "r5FgHR4tSprZ"
      },
      "source": [
        "# <font color=purple> (Part 1) Write some code to help with defining relations </font>"
      ]
    },
    {
      "cell_type": "markdown",
      "metadata": {
        "id": "TP5LmPS-ZDfg"
      },
      "source": [
        "#### The format we will use to describe a network"
      ]
    },
    {
      "cell_type": "markdown",
      "metadata": {
        "id": "uqhglAN2rwnU"
      },
      "source": [
        "A relation will be given as the rows of the relation's table, starting with the headings:\n",
        "\n",
        "  *  The first entry is a list of variable names, which must be strings.\n",
        "  *  The remaining entries give the combinations of values that the relation accepts.\n",
        "  *  Any type of value is ok, for the possible variable values.\n",
        "\n",
        "```\n",
        "Example:\n",
        "  The \"exactly one\" relation, applied to wires 'x', 'y', and 'z':\n",
        "    [['x', 'y', 'z'],\n",
        "      [ 0 ,  0 ,  1 ],\n",
        "      [ 0 ,  1 ,  0 ],\n",
        "      [ 1 ,  0 ,  0 ] ]\n",
        "```\n",
        "```\n",
        "Example:\n",
        "  A relation applied to variables 'temp', 'state', and 'material':\n",
        "    [[ 'temp' , 'state' , 'material'],\n",
        "      [ 'cold' , 'solid' , 'h2o'     ],\n",
        "      [ 'cold' , 'liquid', 'h2o'     ],\n",
        "      [ 'warm' , 'liquid', 'h2o'     ],\n",
        "      [ 'hot'  , 'liquid', 'h2o'     ],\n",
        "      [ 'hot'  , 'gas'   , 'h2o'     ],\n",
        "      [ 'cold' , 'liquid', 'hg'      ],\n",
        "      [ 'warm' , 'liquid', 'hg'      ],\n",
        "      [ 'hot'  , 'liquid', 'hg'      ] ]\n",
        "```\n"
      ]
    },
    {
      "cell_type": "markdown",
      "metadata": {
        "id": "UrpO8raV83HD"
      },
      "source": [
        "A network will be given as just a list of relations.\n",
        "\n",
        "  *  The wires are defined implicitly, via the variable names.\n",
        "  *  Each variable name is the name of a wire that goes to all the relations that use that variable."
      ]
    },
    {
      "cell_type": "markdown",
      "metadata": {
        "id": "E4Ju6D1t3zFq"
      },
      "source": [
        "---\n",
        "### Let's make it easy to create relations"
      ]
    },
    {
      "cell_type": "markdown",
      "metadata": {
        "id": "XNGpnQBNBQ8_"
      },
      "source": [
        "Here we define a helper function that can create an \"exactly one\" relation on whatever 3 wires we give it:"
      ]
    },
    {
      "cell_type": "code",
      "metadata": {
        "id": "nvdpHalSApPo"
      },
      "source": [
        "def EXACTLY_ONE(w1, w2, w3):\n",
        "  \"\"\"The \"exactly one\" relation on 3 wires, accepting tuples with exactly one '1'.\"\"\"\n",
        "  return [ [w1, w2, w3],  # those are the wire names, passed in as args\n",
        "          [0,0,1], [0,1,0], [1,0,0] ]  # the acceptable tuples"
      ],
      "execution_count": null,
      "outputs": []
    },
    {
      "cell_type": "markdown",
      "metadata": {
        "id": "O6nSeY_096a8"
      },
      "source": [
        "_(If you are a Python purist and all-caps makes you upset if it's not for a constant, don't worry, we are only doing this for functions that make relations.)_"
      ]
    },
    {
      "cell_type": "markdown",
      "metadata": {
        "id": "F4IwnHP4DWfk"
      },
      "source": [
        "Here is an example of how we could use that function to create an \"exactly one\" relation on the variables 'x', 'y', and 'z'."
      ]
    },
    {
      "cell_type": "code",
      "metadata": {
        "colab": {
          "base_uri": "https://localhost:8080/"
        },
        "id": "YFZZnWBvBfpp",
        "outputId": "c0e6d42b-cf4a-4d45-fe81-0f99a21945d8"
      },
      "source": [
        "EXACTLY_ONE('x','y','z')"
      ],
      "execution_count": null,
      "outputs": [
        {
          "output_type": "execute_result",
          "data": {
            "text/plain": [
              "[['x', 'y', 'z'], [0, 0, 1], [0, 1, 0], [1, 0, 0]]"
            ]
          },
          "metadata": {},
          "execution_count": 7
        }
      ]
    },
    {
      "cell_type": "markdown",
      "metadata": {
        "id": "MLCd6JE4o7_L"
      },
      "source": [
        "### Part 1 (a, b, c, d, e, f, g, h)"
      ]
    },
    {
      "cell_type": "markdown",
      "metadata": {
        "id": "auN_1V9-C18u"
      },
      "source": [
        "Now make a helper function called NOT, to make a relation that asserts that two Boolean (0/1) variables are unequal."
      ]
    },
    {
      "cell_type": "code",
      "metadata": {
        "id": "gMFSBfi_mvD5"
      },
      "source": [
        "# ENTER YOUR FUNCTION HERE"
      ],
      "execution_count": null,
      "outputs": []
    },
    {
      "cell_type": "markdown",
      "metadata": {
        "id": "Ce3PaoM3mcze"
      },
      "source": [
        "Also make a helper function called EQUALS, to make a relation that asserts that two Boolean (0/1) variables are the same.  You might surprise yourself by actually wanting to use this later on!"
      ]
    },
    {
      "cell_type": "code",
      "metadata": {
        "id": "hluO67F4m1dT"
      },
      "source": [
        "# ENTER YOUR FUNCTION HERE"
      ],
      "execution_count": null,
      "outputs": []
    },
    {
      "cell_type": "markdown",
      "metadata": {
        "id": "6UrbsxOlCS-E"
      },
      "source": [
        "Now make a helper function called IS_ONE for the relation on a single variable that asserts that the value of the variable is 1.\n",
        "\n",
        "Also make IS_ZERO."
      ]
    },
    {
      "cell_type": "code",
      "metadata": {
        "id": "BR5OvkifCmaY"
      },
      "source": [
        "# ENTER THESE TWO FUNCTIONS HERE"
      ],
      "execution_count": null,
      "outputs": []
    },
    {
      "cell_type": "markdown",
      "metadata": {
        "id": "JDLWcBweCIfG"
      },
      "source": [
        "Now you can define a helper function called NAND_GATE for the relation on 3 wires that corresponds to a NAND gate.\n",
        "\n",
        "Also make AND_GATE, OR_GATE, and XOR_GATE."
      ]
    },
    {
      "cell_type": "code",
      "metadata": {
        "id": "rAqgcZ6kCLP3"
      },
      "source": [
        "# ENTER THESE FOUR FUNCTIONS HERE"
      ],
      "execution_count": null,
      "outputs": []
    },
    {
      "cell_type": "markdown",
      "metadata": {
        "id": "tzJ28EM5q-vn"
      },
      "source": [
        "# <font color=purple> (Part 2) Create a big Sudoku puzzle network out of little relations of size at most 3 </font>"
      ]
    },
    {
      "cell_type": "markdown",
      "metadata": {
        "id": "He7NMo5eg-LV"
      },
      "source": [
        "### For Sudoku, we will want to be able to talk about cell-specific variables"
      ]
    },
    {
      "cell_type": "markdown",
      "metadata": {
        "id": "A54VX2T4U0cY"
      },
      "source": [
        "\n",
        "\n",
        "There are many ways to describe a Sudoku puzzle in terms of constraints.\n",
        "\n",
        "Here, our goal will be to create a network of relations that has a fairly repetitive, grid-like structure, matching the Sudoku grid.\n",
        "\n",
        "For example, instead of using a 1-of-9 relation that is a \"global\" relation spanning the entire width of a row (say to implement the constraint that a 5 should appear in one of the 9 positions in the top row), we will instead implement the 1-of-9 relation with a network of 1-of-3 and NOT relations, in a way that allows us to lay out the network so that all relations act only locally in the grid (within a cell or between a cell and its neighbor)."
      ]
    },
    {
      "cell_type": "markdown",
      "metadata": {
        "id": "9MnNcR0PhzcB"
      },
      "source": [
        "To make a big network that has a repeating grid-like structure, we will need relations and variables at every position in the grid.  That's a lot of variable names.\n",
        "\n",
        "Luckily, a variable name is just any old string.  So the variable name can include something like ...\" at (3,1)\" at the end of the string to indicate that it is a variable being used at column 3, row 1."
      ]
    },
    {
      "cell_type": "markdown",
      "metadata": {
        "id": "CQ8x9UXJhEwL"
      },
      "source": [
        "Here is a helper function to help create variable names we will need for describing Sudoku."
      ]
    },
    {
      "cell_type": "code",
      "metadata": {
        "id": "Q37Ybtt8n8XI"
      },
      "source": [
        "def factoid_var_name(digit, property, column, row):\n",
        "  \"\"\"Creates a variable name regarding the digit k at position (x,y) of a Sudoku problem\"\"\"\n",
        "  return f'digit {digit} {property} ({column},{row})'"
      ],
      "execution_count": null,
      "outputs": []
    },
    {
      "cell_type": "code",
      "metadata": {
        "colab": {
          "base_uri": "https://localhost:8080/"
        },
        "id": "YTyn09KvoIVf",
        "outputId": "6c421093-4f75-48b5-def9-aad146563468"
      },
      "source": [
        "factoid_var_name(5, \"is at\", 3,1)"
      ],
      "execution_count": null,
      "outputs": [
        {
          "output_type": "execute_result",
          "data": {
            "application/vnd.google.colaboratory.intrinsic+json": {
              "type": "string"
            },
            "text/plain": [
              "'digit 5 is at (3,1)'"
            ]
          },
          "metadata": {},
          "execution_count": 13
        }
      ]
    },
    {
      "cell_type": "markdown",
      "metadata": {
        "id": "vrr2T5V8oOO-"
      },
      "source": [
        "That string is the [lengthy] name of a variable that can be true or false (1 or 0).  At least it is clear what it means.  If it's True, then there is a 5 in the box in the 3rd column, 1st row.  If it's False, then there is some other digit at that location.\n",
        "\n",
        "The 9x9x9 = 729 variables of this form (the `\"is at\"` form) will be used (by some code we provide below) for displaying the state of the sudoku.  Any other variable names, however, are up to you."
      ]
    },
    {
      "cell_type": "markdown",
      "metadata": {
        "id": "AD0GAjBDk65n"
      },
      "source": [
        "You will probably want to have several variables per grid cell.\n",
        "\n",
        "Here is an example of another 0/1 variable you might or might not want to have in that cell:"
      ]
    },
    {
      "cell_type": "code",
      "metadata": {
        "colab": {
          "base_uri": "https://localhost:8080/"
        },
        "id": "2Rf2N8vskFLo",
        "outputId": "4ea38651-03d3-4613-f8ab-4cdfc1f956e8"
      },
      "source": [
        "factoid_var_name(5, \"is to the left of\", 3, 1)"
      ],
      "execution_count": null,
      "outputs": [
        {
          "output_type": "execute_result",
          "data": {
            "application/vnd.google.colaboratory.intrinsic+json": {
              "type": "string"
            },
            "text/plain": [
              "'digit 5 is to the left of (3,1)'"
            ]
          },
          "metadata": {},
          "execution_count": 14
        }
      ]
    },
    {
      "cell_type": "markdown",
      "metadata": {
        "id": "YuUNj3jL3acV"
      },
      "source": [
        "That is a boolean variable:  It is 1 if the 5 in the first row is in columns 1 or 2, and it is 0 if the 5 in the first row is in column 3 or later."
      ]
    },
    {
      "cell_type": "markdown",
      "metadata": {
        "id": "FwwLmj3IdpAE"
      },
      "source": [
        "### --- Part 2 (a) --- Design a network to implement 1-of-9 with 1-of-3"
      ]
    },
    {
      "cell_type": "markdown",
      "metadata": {
        "id": "D5nguloEy1Jq"
      },
      "source": [
        "The \"1 of 9\" relation is very important for Sudoku.\n",
        "\n",
        "It is possible to implement the 1-of-9 relation using some 1-of-3 relations (also known as the \"exactly one\" relation) and some NOT relations.  Can you figure out how to do it?  You will need this later.\n",
        "\n",
        "(Note: You can make a NOT relation using a couple of EXACTLY_ONE relations, so that's why it's ok to use NOT relations even if your goal would be to _only_ use EXACTLY_ONE relations.  For your design, feel free to use NOT relations.)\n",
        "\n",
        "Hint:\n",
        "<br> First take a NOT relation and attach two ExactlyOne relations to it, one on each side.\n",
        "<br> Look at the four other wires of the ExactlyOne relations.\n",
        "<br> What relation is implemented on these four values, by this little network?\n",
        "<br> How do the values on the 2 internal edges relate to the values on the dangling edges?\n"
      ]
    },
    {
      "cell_type": "markdown",
      "metadata": {
        "id": "788tsr5bnVNL"
      },
      "source": [
        "< Just type your answer here as text >"
      ]
    },
    {
      "cell_type": "markdown",
      "metadata": {
        "id": "6M8WKOI4lOAW"
      },
      "source": [
        "### --- Part 2 (b) --- Lay out the network in a grid-like way for a row of the grid"
      ]
    },
    {
      "cell_type": "markdown",
      "metadata": {
        "id": "pFQNBy_AlQz1"
      },
      "source": [
        "After doing part 2a, can you find a network of exactly-one and NOT relations that would specify that the digit 5 appears in eactly one of the nine positions in the top Sudoku row?  Specifically, can you make a network that you can lay out across all those little boxes in the top row, so that the part of the network in each box looks pretty much the same?\n",
        "Assume that each box has a 0/1 variable for whether there is a 5 in that box or not.\n",
        "(The part of the network in the first and/or last cell might differ from the others, and/or you might need extra constraints at the ends of the row -- the details will depend on how you do it.)"
      ]
    },
    {
      "cell_type": "markdown",
      "metadata": {
        "id": "v5PWIN4Wnkzc"
      },
      "source": [
        "< Just type your answer here as text >"
      ]
    },
    {
      "cell_type": "markdown",
      "metadata": {
        "id": "lznIVPqSnQQC"
      },
      "source": [
        "### --- Part 2 (c) -- Write some code to do generate your network in a grid-like way"
      ]
    },
    {
      "cell_type": "markdown",
      "metadata": {
        "id": "AXzya4XpnmOy"
      },
      "source": [
        "After doing part 2b, write a little function that will help create the network you found in part 2b.\n",
        "\n",
        "Specifically, it should create a bunch of relations that implement the constraint that **digit k should appear in exactly one location in row i.**  It should refer to the cell-associated variables you want to use, created with factoid_var_name.\n",
        "\n",
        "You should definitely use the variables of the form produced by `factoid_var_name(digit, \"is at\", column, row)`, because these variables will be the link to the visualizer.  We recommend that the other variables you use also be created with `factoid_var_name`, but with something other than `\"is at\"`.  (This will make things easier for example if you want to hack the visualization code, but don't worry, you are not expected to do that in this homework).\n",
        "\n",
        "We will index cells using 1...9 (which is natural for Sudoku) instead of 0...8 (which would be natural for Python, and it would simplify some of our functions, but we don't do it).\n",
        "\n",
        "We are counting columns from left (1) to right (9), and rows from top (1) to bottom (9)."
      ]
    },
    {
      "cell_type": "code",
      "metadata": {
        "id": "yd8Ml97FrZLO"
      },
      "source": [
        "def constrain_digit_in_row(digit, row):  #  returns a list of relations\n",
        "  # ENTER YOUR CODE HERE\n",
        "  pass"
      ],
      "execution_count": null,
      "outputs": []
    },
    {
      "cell_type": "markdown",
      "metadata": {
        "id": "TnehNYnqXwMB"
      },
      "source": [
        "After you define it, you can try it out:"
      ]
    },
    {
      "cell_type": "code",
      "metadata": {
        "id": "CgcHAEwUXnJG"
      },
      "source": [
        "[print(rel) for rel in constrain_digit_in_row(5,7)];  # an example of what it returns"
      ],
      "execution_count": null,
      "outputs": []
    },
    {
      "cell_type": "markdown",
      "metadata": {
        "id": "Keu3VFSs6P8-"
      },
      "source": [
        "You should check that it is doing the right thing.  It will be much easier to double-check this now than to debug it later!\n",
        "\n",
        "Specifically, it should be creating your network that implements 1-of-9.\n",
        "<br>\n",
        "In this example, it should be returning a list of relations that enforce the idea that the digit 5 should appear in exactly one place in row 7."
      ]
    },
    {
      "cell_type": "markdown",
      "metadata": {
        "id": "rTQNf_b4-3aC"
      },
      "source": [
        "### --- Part 2 (d,e) --- Make similar relations for columns, and for the digits in a cell"
      ]
    },
    {
      "cell_type": "markdown",
      "metadata": {
        "id": "abnTO2rbJBFy"
      },
      "source": [
        "You already made a function to generate constraints for the rows.\n",
        "\n",
        "Now make similar functions for the columns, and for the value of a digit in a cell (given any cell, exactly one of the 9 possible digits can appear in it)."
      ]
    },
    {
      "cell_type": "code",
      "metadata": {
        "id": "SnCkX-UAKJjk"
      },
      "source": [
        "def constrain_digit_in_column(digit, column):  #  returns a list of relations\n",
        "  # ENTER YOUR CODE HERE\n",
        "  pass"
      ],
      "execution_count": null,
      "outputs": []
    },
    {
      "cell_type": "code",
      "metadata": {
        "id": "xm00l1CRKKFB"
      },
      "source": [
        "def constrain_digits_in_cell(column, row):  #  returns a list of relations\n",
        "  # ENTER YOUR CODE HERE\n",
        "  pass"
      ],
      "execution_count": null,
      "outputs": []
    },
    {
      "cell_type": "markdown",
      "metadata": {
        "id": "BOHjvkB9okDJ"
      },
      "source": [
        "### Some helper functions for iterating through cells of a block and through blocks"
      ]
    },
    {
      "cell_type": "markdown",
      "metadata": {
        "id": "Ea85WbEyLaFN"
      },
      "source": [
        "To get ready for the 3x3 blocks, we create a function, namely `column_and_row_of_cell_block`, that may be helpful.\n",
        "\n",
        "First we create some helper functions that define a little path through the block."
      ]
    },
    {
      "cell_type": "code",
      "metadata": {
        "colab": {
          "base_uri": "https://localhost:8080/"
        },
        "id": "yJ0p-y8JLmMB",
        "outputId": "f0c8a7e2-68e8-4da9-91fe-2f620bb129d1"
      },
      "source": [
        "# These are just a couple of helper functions to provide a squiggly\n",
        "# ordering for the blocks and cells-within-a-block, just to keep\n",
        "# the chain visually contiguous.  This doesn't affect the inference,\n",
        "# but it is nice to keep the relations very local.\n",
        "\n",
        "def squiggle_to_row(counter):      # receives 1..9, returns 1..3\n",
        "  return ((counter - 1) // 3) + 1\n",
        "def squiggle_to_column(counter):   # receives 1..9, returns 1..3\n",
        "  return abs(((counter - 1) % 3) + 1 - 4 * (((counter - 1) // 3) % 2))\n",
        "\n",
        "print([ (squiggle_to_column(i), squiggle_to_row(i)) for i in range(1,10) ])"
      ],
      "execution_count": null,
      "outputs": [
        {
          "output_type": "stream",
          "name": "stdout",
          "text": [
            "[(1, 1), (2, 1), (3, 1), (3, 2), (2, 2), (1, 2), (1, 3), (2, 3), (3, 3)]\n"
          ]
        }
      ]
    },
    {
      "cell_type": "code",
      "metadata": {
        "id": "t0mp6vyzUzuP"
      },
      "source": [
        "# The following function is the one you might want to use:\n",
        "\n",
        "def column_and_row_of_cell_block(cell_number, block_number):  # cell_number means which cell within the block\n",
        "  return (squiggle_to_column(cell_number) + 3 * (squiggle_to_column(block_number) - 1),\n",
        "          squiggle_to_row   (cell_number) + 3 * (squiggle_to_row   (block_number) - 1))"
      ],
      "execution_count": null,
      "outputs": []
    },
    {
      "cell_type": "markdown",
      "metadata": {
        "id": "zdmELpR_V4ZL"
      },
      "source": [
        "The idea of that function is that the 9th cell of block number 2 (of the nine 3x3 blocks) is in column 6 and row 3."
      ]
    },
    {
      "cell_type": "code",
      "metadata": {
        "colab": {
          "base_uri": "https://localhost:8080/"
        },
        "id": "kU5ff6CZiK2k",
        "outputId": "bf155ad5-2c0f-41ee-e95a-c963e5500596"
      },
      "source": [
        "column_and_row_of_cell_block(9,2)"
      ],
      "execution_count": null,
      "outputs": [
        {
          "output_type": "execute_result",
          "data": {
            "text/plain": [
              "(6, 3)"
            ]
          },
          "metadata": {},
          "execution_count": 19
        }
      ]
    },
    {
      "cell_type": "code",
      "metadata": {
        "colab": {
          "base_uri": "https://localhost:8080/"
        },
        "id": "drwEpSzPNJtv",
        "outputId": "ec34a90d-e43d-49d5-d291-0c5579c88d18"
      },
      "source": [
        "[print(f\"the 9 cells in block {b}:  \",[ column_and_row_of_cell_block(c,b) for c in range(1,10) ]) for b in range(1,10) ];"
      ],
      "execution_count": null,
      "outputs": [
        {
          "output_type": "stream",
          "name": "stdout",
          "text": [
            "the 9 cells in block 1:   [(1, 1), (2, 1), (3, 1), (3, 2), (2, 2), (1, 2), (1, 3), (2, 3), (3, 3)]\n",
            "the 9 cells in block 2:   [(4, 1), (5, 1), (6, 1), (6, 2), (5, 2), (4, 2), (4, 3), (5, 3), (6, 3)]\n",
            "the 9 cells in block 3:   [(7, 1), (8, 1), (9, 1), (9, 2), (8, 2), (7, 2), (7, 3), (8, 3), (9, 3)]\n",
            "the 9 cells in block 4:   [(7, 4), (8, 4), (9, 4), (9, 5), (8, 5), (7, 5), (7, 6), (8, 6), (9, 6)]\n",
            "the 9 cells in block 5:   [(4, 4), (5, 4), (6, 4), (6, 5), (5, 5), (4, 5), (4, 6), (5, 6), (6, 6)]\n",
            "the 9 cells in block 6:   [(1, 4), (2, 4), (3, 4), (3, 5), (2, 5), (1, 5), (1, 6), (2, 6), (3, 6)]\n",
            "the 9 cells in block 7:   [(1, 7), (2, 7), (3, 7), (3, 8), (2, 8), (1, 8), (1, 9), (2, 9), (3, 9)]\n",
            "the 9 cells in block 8:   [(4, 7), (5, 7), (6, 7), (6, 8), (5, 8), (4, 8), (4, 9), (5, 9), (6, 9)]\n",
            "the 9 cells in block 9:   [(7, 7), (8, 7), (9, 7), (9, 8), (8, 8), (7, 8), (7, 9), (8, 9), (9, 9)]\n"
          ]
        }
      ]
    },
    {
      "cell_type": "markdown",
      "metadata": {
        "id": "ZsTB5Um1XBUt"
      },
      "source": [
        "_(Remember that if you want to use a pair P to provide 2 of the arguments when you call a function, you can use *P.)_"
      ]
    },
    {
      "cell_type": "markdown",
      "metadata": {
        "id": "XjUirStVMHuk"
      },
      "source": [
        "### --- Part 2 (f) --- Make similar relations for the constraints in a block"
      ]
    },
    {
      "cell_type": "markdown",
      "metadata": {
        "id": "AuAFR0jjTfcW"
      },
      "source": [
        "Now you can write your function for the constraints in a block"
      ]
    },
    {
      "cell_type": "code",
      "metadata": {
        "id": "qpsWsAy4KKvu"
      },
      "source": [
        "def constrain_digit_in_block(digit, block):  #  returns a list of relations\n",
        "  # ENTER YOUR CODE HERE"
      ],
      "execution_count": null,
      "outputs": []
    },
    {
      "cell_type": "markdown",
      "metadata": {
        "id": "uso3HyHVxHWw"
      },
      "source": [
        "### --- Part 2 (g) --- Ok, now we are ready to make a big network of all the constraints in an empty Sudoku puzzle"
      ]
    },
    {
      "cell_type": "markdown",
      "metadata": {
        "id": "Nqq-sI1ByTyY"
      },
      "source": [
        "If you wrote all the functions requested above, then this shouldn't be too hard."
      ]
    },
    {
      "cell_type": "code",
      "metadata": {
        "id": "SbtzDprRyTcd"
      },
      "source": [
        "def big_blank_sudoku_network():  # returns a very large list of relations\n",
        "  # ENTER YOUR CODE HERE"
      ],
      "execution_count": null,
      "outputs": []
    },
    {
      "cell_type": "markdown",
      "metadata": {
        "id": "C7DUsYusCEwa"
      },
      "source": [
        "Just how big is it?"
      ]
    },
    {
      "cell_type": "code",
      "metadata": {
        "id": "sx8H_sCDB1eQ"
      },
      "source": [
        "len(big_blank_sudoku_network())"
      ],
      "execution_count": null,
      "outputs": []
    },
    {
      "cell_type": "markdown",
      "metadata": {
        "id": "FNZpQDahDihp"
      },
      "source": [
        "And what is the maximum size of any relation in this network?\n",
        "\n",
        "(Remember, the size of a relation is the number of different tuples that it accepts.)"
      ]
    },
    {
      "cell_type": "code",
      "metadata": {
        "id": "6F6ifYHEDh4a"
      },
      "source": [
        "max([ len(rel)-1 for rel in big_blank_sudoku_network() ])"
      ],
      "execution_count": null,
      "outputs": []
    },
    {
      "cell_type": "markdown",
      "metadata": {
        "id": "kIHXAX52FSEV"
      },
      "source": [
        "(That should be 3.)"
      ]
    },
    {
      "cell_type": "markdown",
      "metadata": {
        "id": "qqTFrpkbsA0f"
      },
      "source": [
        "# <font color=purple> (Part 3) Code up the exclusion process </font>"
      ]
    },
    {
      "cell_type": "markdown",
      "metadata": {
        "id": "vkXUge9QD5pN"
      },
      "source": [
        "Here you are going to write code to do the inference process.  The inference process is very straightforward, but writing code to implement it can still wind up being less straightforward than you might think."
      ]
    },
    {
      "cell_type": "markdown",
      "metadata": {
        "id": "BOur6TuTOlFb"
      },
      "source": [
        "### --- Part 3 (a) --- A lot of variables"
      ]
    },
    {
      "cell_type": "markdown",
      "metadata": {
        "id": "7aaTxyxEIgZF"
      },
      "source": [
        "The exclusion process excludes values from variables, as well as excluding tuples from relations.\n",
        "\n",
        "Our format for a network only lists the relations.  Let's make a list of the variables."
      ]
    },
    {
      "cell_type": "code",
      "metadata": {
        "id": "BYd46ryEIvav"
      },
      "source": [
        "def variable_names_in_net(network):\n",
        "  # ENTER YOUR CODE HERE"
      ],
      "execution_count": null,
      "outputs": []
    },
    {
      "cell_type": "markdown",
      "metadata": {
        "id": "6-B6D-03OJO1"
      },
      "source": [
        "How many variables are used by your network for implementing a 1-of-9 constraint?"
      ]
    },
    {
      "cell_type": "code",
      "metadata": {
        "id": "wb1SspKjNqZX"
      },
      "source": [
        "len(variable_names_in_net(constrain_digit_in_row(5,7)))"
      ],
      "execution_count": null,
      "outputs": []
    },
    {
      "cell_type": "markdown",
      "metadata": {
        "id": "ABKcRJ8gOPNY"
      },
      "source": [
        "And how many variables are in the giant Sudoku network?"
      ]
    },
    {
      "cell_type": "code",
      "metadata": {
        "id": "uNPTMNZhNw1l"
      },
      "source": [
        "len(variable_names_in_net(big_blank_sudoku_network()))"
      ],
      "execution_count": null,
      "outputs": []
    },
    {
      "cell_type": "markdown",
      "metadata": {
        "id": "iT-4bDMBIsfI"
      },
      "source": [
        "### --- Part 3 (b) --- What values can a variable have?"
      ]
    },
    {
      "cell_type": "markdown",
      "metadata": {
        "id": "NUFWXF7mJOpI"
      },
      "source": [
        "For any given variable, various relations in the network use that variable.\n",
        "\n",
        "Each relation that uses the variable will have one or more columns for that variable, in its table of tuples.\n",
        "\n",
        "Each column mentions various values the variable might have.\n",
        "\n",
        "Collect all of these values into a list (without repeats) of all the values mentioned in the network for the given variable."
      ]
    },
    {
      "cell_type": "code",
      "metadata": {
        "id": "TtF6G6KWInFL"
      },
      "source": [
        "def mentioned_values_for_var(var_name, network) :\n",
        "  # ENTER YOUR CODE HERE"
      ],
      "execution_count": null,
      "outputs": []
    },
    {
      "cell_type": "markdown",
      "metadata": {
        "id": "chD-pMFkg0HS"
      },
      "source": [
        "For this problem we were looking at the _union_ of all possible sets of values.  Your inference engine would of course want to consider the _intersection_, since that is what the possibilities can be narrowed down to.  Although the function you wrote above won't be quite in the style you need in your engine, it starts to give you an idea of how to write the type of code you'll be needing."
      ]
    },
    {
      "cell_type": "markdown",
      "metadata": {
        "id": "veluVxt_IVv3"
      },
      "source": [
        "### The main task"
      ]
    },
    {
      "cell_type": "markdown",
      "metadata": {
        "id": "d2SZAwRzIe5R"
      },
      "source": [
        "Your task is to write an inference engine that performs the exclusion process.  It should not perform any inferences that do not result from the exclusion process.\n",
        "\n",
        "---\n",
        "\n",
        "\n",
        "\n",
        "Your inference engine is going to receive two pieces of input:\n",
        "\n",
        "1.  A network, often in a partially reduced state (i.e. exclusions have happened)\n",
        "1.  A list of new exclusions to impose.\n",
        "\n",
        "Your function is going to return two things:\n",
        "\n",
        "1.  A reduced form of the network.\n",
        "1.  A list of the exclusions it made, or equivalent."
      ]
    },
    {
      "cell_type": "markdown",
      "metadata": {
        "id": "CwNEUC9RP_0i"
      },
      "source": [
        "There are various ways to approach this problem.\n",
        "\n",
        "You might prefer updating the contents of a mutable network, so the returned network is actually the same object as the network given in the parameter list.\n",
        "\n",
        "Or you might prefer constructing a reduced copy of the network, leaving the original network object untouched.\n",
        "\n",
        "For the list of exclusions, you might return a list of items that say exactly what tuples was excluded from what relation.  Or you might return the original network (if it's unchanged), thus giving the exclusions _implicitly_ because they are the difference between the old and new networks.\n",
        "<br>\n",
        "When it says \"or equivalent\", what this means is that given the two things that your function is returning, it must be possible to reconstruct the original network state as it was passed to the function.  (Later on, this will allow backtracking and more.)\n",
        "\n",
        "You might want to build up your engine with lots of helper functions.  Or you might want to have a big function of nested loops and tests.\n",
        "\n",
        "You might want to use an object oriented approach with various classes of objects, or you might just want to use indices as pointers into lists, or you might want to use high level Python functions that magically do the right thing.\n",
        "\n",
        "You can try to keep the complexity of the algorithm under control (the inference process only needs linear time in principle!), or you can not worry about the complexity, in which case your code will only be able to handle small to medium cases, depending on how efficient or inefficient it is.  You saw that the Sudoku network has thousands of relations in it.  Computers can do thousands of things in the blink of an eye, but they cannot do thousands^3 of things in the blink of an eye.\n",
        "\n",
        "The network data structure that you want your code to operate on will probably be a different structure from the simple one described above, which was optimized to make it easy to _define_ a network, but not to make it easy to do _inference_.  So you will want to write a function that transforms a _network description_ (like the networks you made above) into the _network data structure_ that your inference engine wants to work with."
      ]
    },
    {
      "cell_type": "code",
      "metadata": {
        "id": "OMEcay4ycXIm"
      },
      "source": [
        "# you might or might not want to use a to-do queue in your engine\n",
        "\n",
        "import queue     # usage:      my_q = queue.Queue()\n",
        "                 #             if not my_q.empty(): item = my_q.get()\n",
        "                 #             my_q.put(item)"
      ],
      "execution_count": null,
      "outputs": []
    },
    {
      "cell_type": "code",
      "metadata": {
        "id": "zTE8WPFVDYMk"
      },
      "source": [
        "# also can be helpful: a function that takes any arguments and does nothing\n",
        "no_func = (lambda *args, **kwargs: None)"
      ],
      "execution_count": null,
      "outputs": []
    },
    {
      "cell_type": "markdown",
      "metadata": {
        "id": "94Q7rWLyZYNm"
      },
      "source": [
        "### --- Part 3 (c) --- Write the function `prepare_network`"
      ]
    },
    {
      "cell_type": "markdown",
      "metadata": {
        "id": "fkjf-8rJbdzX"
      },
      "source": [
        "Write a function `prepare_network` that converts your network into the form that your engine would like."
      ]
    },
    {
      "cell_type": "code",
      "metadata": {
        "id": "3AZRXZm1bM5C"
      },
      "source": [
        "def prepare_network(network) :\n",
        "  # ENTER YOUR CODE HERE"
      ],
      "execution_count": null,
      "outputs": []
    },
    {
      "cell_type": "markdown",
      "metadata": {
        "id": "EHeb3-sdOgES"
      },
      "source": [
        "### --- Part 3 (d) --- Write the function `do_exclusions_on_network`"
      ]
    },
    {
      "cell_type": "markdown",
      "metadata": {
        "id": "c9CVYUDQG-H0"
      },
      "source": [
        "You should write a function `do_exclusions_on_network(network, new_exclusions)`.  The data structure of the first argument should be whatever `prepare_network` returns, but the data structure of the second argument is a list of relations in the same form as the _input_ to `prepare_network`."
      ]
    },
    {
      "cell_type": "code",
      "metadata": {
        "id": "QxpHLhQBVA7e"
      },
      "source": [
        "def do_exclusions_on_network(prep_net, new_exclusions, visualizer=no_func) :\n",
        "  \"\"\"Runs the exclusion process on the prepared network, applying the new\n",
        "     exclusions to it.  Returns [reduced_net, exclusions_made].\"\"\""
      ],
      "execution_count": null,
      "outputs": []
    },
    {
      "cell_type": "markdown",
      "metadata": {
        "id": "isGQ9Msk0Lrt"
      },
      "source": [
        "Whenever your code would like to update the real-time display of how the inference is going, it should call the visualization function like this:\n",
        "\n",
        "    if doing_sudoku : visualizer(var_fetcher)\n",
        "where `var_fetcher(digit,column,row)` is *your* callback function.\n",
        "\n",
        "It should work like this:  `var_fetcher(5,3,1)` for example should return the list of values that are still allowed for the boolean variable `\"digit 5 is at (3,1)\"`.  This should return one of the following lists: `[0,1]`, `[1,0]`, `[0]`, `[1]`, or `[]`.  (The first two are equivalent, it doesn't matter which of those is returned.)"
      ]
    },
    {
      "cell_type": "markdown",
      "metadata": {
        "id": "tOeOqIvEEcYE"
      },
      "source": [
        "### Here is a little network to play with"
      ]
    },
    {
      "cell_type": "code",
      "metadata": {
        "id": "M1V9bKzzEfdE"
      },
      "source": [
        "# Here is a sample network you can use for testing\n",
        "# It may look familiar from HW1...\n",
        "hw1_net = [\n",
        "  XOR_GATE('A','B','F'), NOT('F','G'), AND_GATE('D','G','C'),\n",
        "   OR_GATE('B','H','D'), NOT('E','H'), AND_GATE('E','B','C')\n",
        "]\n",
        "hw1_net"
      ],
      "execution_count": null,
      "outputs": []
    },
    {
      "cell_type": "markdown",
      "metadata": {
        "id": "RnCpl3DPsGvt"
      },
      "source": [
        "# <font color=purple> (Part 4) Apply your code to actual Sudoku puzzles </font>"
      ]
    },
    {
      "cell_type": "markdown",
      "metadata": {
        "id": "2eRh-VK_uHtj"
      },
      "source": [
        "### First, a bit of visualization code"
      ]
    },
    {
      "cell_type": "markdown",
      "metadata": {
        "id": "xdoVL7wvuNmk"
      },
      "source": [
        "This is the visualization code.  You don't have to hack it.  (But you need to execute it.)"
      ]
    },
    {
      "cell_type": "code",
      "metadata": {
        "colab": {
          "base_uri": "https://localhost:8080/"
        },
        "id": "xJl7H2aeYmLs",
        "outputId": "d0909fd7-ebbf-459e-bd4d-04d977612a73"
      },
      "source": [
        "!pip install svgwrite\n",
        "import svgwrite, time, random\n",
        "from IPython.display import SVG, display, clear_output\n",
        "def show_svg(svg):\n",
        "     clear_output(wait=True)\n",
        "     display(SVG(svg.tostring()))\n",
        "     print(flush=True) # to reduce flicker"
      ],
      "execution_count": null,
      "outputs": [
        {
          "output_type": "stream",
          "name": "stdout",
          "text": [
            "Collecting svgwrite\n",
            "  Downloading svgwrite-1.4.1-py3-none-any.whl (66 kB)\n",
            "\u001b[?25l\r\u001b[K     |█████                           | 10 kB 24.2 MB/s eta 0:00:01\r\u001b[K     |█████████▉                      | 20 kB 13.1 MB/s eta 0:00:01\r\u001b[K     |██████████████▊                 | 30 kB 10.4 MB/s eta 0:00:01\r\u001b[K     |███████████████████▋            | 40 kB 8.7 MB/s eta 0:00:01\r\u001b[K     |████████████████████████▌       | 51 kB 5.0 MB/s eta 0:00:01\r\u001b[K     |█████████████████████████████▍  | 61 kB 5.6 MB/s eta 0:00:01\r\u001b[K     |████████████████████████████████| 66 kB 2.0 MB/s \n",
            "\u001b[?25hInstalling collected packages: svgwrite\n",
            "Successfully installed svgwrite-1.4.1\n"
          ]
        }
      ]
    },
    {
      "cell_type": "markdown",
      "metadata": {
        "id": "8AwM4pnCFZtt"
      },
      "source": [
        "We'll use a few global variables here."
      ]
    },
    {
      "cell_type": "code",
      "metadata": {
        "id": "VB4-NVrBFe-Y"
      },
      "source": [
        "last_time = time.time_ns()\n",
        "spf = 0.001                   # seconds per frame\n",
        "\n",
        "display_once_per = 10         # reduce the number of redisplays\n",
        "current_once_per = 0          # just for internal record keeping, ignore it"
      ],
      "execution_count": null,
      "outputs": []
    },
    {
      "cell_type": "code",
      "metadata": {
        "id": "4EeTBHe-YmLs"
      },
      "source": [
        "def sudoku_callback(var_fetcher):\n",
        "  '''Make an SVG picture of the current state of the Sudoku, and show it'''\n",
        "  global my_svg, last_time, spf, display_once_per, current_once_per\n",
        "  # frame reduction\n",
        "  current_once_per += 1\n",
        "  if current_once_per != display_once_per : return # ignore call\n",
        "  current_once_per = 0\n",
        "\n",
        "  # picture parameters\n",
        "  cell_size = 32\n",
        "  mar = 1            # at edge of grid\n",
        "  fat_line = 2.5     # lines of grid\n",
        "  thin_line = 1\n",
        "  bigdig_x = 9       # position of big digit\n",
        "  bigdig_y = 28\n",
        "  lildig_x = 5       # position of little digit grid\n",
        "  lildig_y = 11.5\n",
        "  lildig_space = 9   # spacing of little digit grid\n",
        "\n",
        "  def add_bigdig(dig, col, row) :\n",
        "    my_svg.add(my_svg.text(\n",
        "                                str(dig),\n",
        "                                insert = (bigdig_x + cell_size * (col - 1),\n",
        "                                          bigdig_y + cell_size * (row - 1)),\n",
        "                                font_size = \"30\",\n",
        "                                fill = f\"rgb(0,0,0)\"))\n",
        "\n",
        "  def add_lildig(dig, col, row, X=False) :\n",
        "    my_svg.add(my_svg.text(\n",
        "                                str(dig),\n",
        "                                insert = (lildig_x + cell_size * (col - 1) + lildig_space * ((dig - 1) % 3),\n",
        "                                          lildig_y + cell_size * (row - 1) + lildig_space * ((dig - 1) // 3)),\n",
        "                                font_size = \"10\",\n",
        "                                fill = f\"rgb(64,64,64)\"))\n",
        "    if X :\n",
        "      my_svg.add(my_svg.text(\n",
        "                                \"X\",\n",
        "                                insert = (lildig_x - 0.5 + cell_size * (col - 1) + lildig_space * ((dig - 1) % 3),\n",
        "                                          lildig_y       + cell_size * (row - 1) + lildig_space * ((dig - 1) // 3)),\n",
        "                                font_size = \"10\",\n",
        "                                fill = f\"rgb(255,0,0)\"))\n",
        "\n",
        "  # make the picture\n",
        "  my_svg = svgwrite.Drawing(\n",
        "                                size = (\"290px\", \"290px\"))\n",
        "  # make it very light off-white\n",
        "  my_svg.add(my_svg.rect(\n",
        "                                insert = (1, 1),\n",
        "                                size = (f\"{9*cell_size+mar}px\", f\"{9*cell_size+mar}px\"),\n",
        "                                # stroke_width = \"1\",\n",
        "                                stroke = \"none\",\n",
        "                                fill = \"rgb(255,252,244)\"))\n",
        "  # draw the grid lines\n",
        "  for i in range(10) :\n",
        "    my_svg.add(my_svg.line((mar + cell_size * i,                 mar),\n",
        "                           (mar + cell_size * i, 9 * cell_size + mar),\n",
        "                           stroke=svgwrite.rgb(20, 20, 20, '%'),\n",
        "                           stroke_width= 2.5 if i%3==0 else 1))\n",
        "    \n",
        "    my_svg.add(my_svg.line((                mar, mar + cell_size * i),\n",
        "                           (9 * cell_size + mar, mar + cell_size * i),\n",
        "                           stroke=svgwrite.rgb(20, 20, 20, '%'),\n",
        "                           stroke_width= 2.5 if i%3==0 else 1))\n",
        "  \n",
        "  # now populate it with digits\n",
        "  for c in range(1,10) :\n",
        "    for r in range(1,10) :\n",
        "      # figure out what to draw in this box\n",
        "      # first collect the data\n",
        "      data = [var_fetcher(i,c,r) for i in range(1,10)]\n",
        "      possible = [pos+1 for pos,term in enumerate(data) for el in term if el == 1]\n",
        "      if len(possible) == 1 :\n",
        "        add_bigdig(possible[0], c, r)\n",
        "      else :\n",
        "        for dig in range(1,10) :\n",
        "          add_lildig(dig, c, r, dig not in possible)\n",
        "\n",
        "  now = time.time_ns()\n",
        "  if (now - last_time < spf) :\n",
        "    time.sleep(spf - (now - last_time))\n",
        "  last_time = time.time_ns()\n",
        "  show_svg(my_svg)\n"
      ],
      "execution_count": null,
      "outputs": []
    },
    {
      "cell_type": "code",
      "metadata": {
        "id": "MouXLc1jYmLs"
      },
      "source": [
        "def simple_caller(visualizer=no_func):        # a totally fake sudoku puzzle solver\n",
        "  global current_once_per\n",
        "  current_once_per = 0\n",
        "  def var_fetcher(d,c,r):\n",
        "    if c == r or c == r+1 or c == r-1 :\n",
        "      return [1] if c == d else [0]\n",
        "    else :\n",
        "      return [0] if random.random() < 0.6 else [0,1]\n",
        "  visualizer(var_fetcher)"
      ],
      "execution_count": null,
      "outputs": []
    },
    {
      "cell_type": "code",
      "metadata": {
        "colab": {
          "base_uri": "https://localhost:8080/",
          "height": 328
        },
        "id": "SH_obOiGpWxi",
        "outputId": "2b70c02d-7100-4d56-e73c-703f29c9eec6"
      },
      "source": [
        "display_once_per = 1                            # currently buggy to use larger values -- final state might not get drawn\n",
        "simple_caller(visualizer=sudoku_callback)       # gives random nonsense sudoku puzzle states"
      ],
      "execution_count": null,
      "outputs": [
        {
          "output_type": "display_data",
          "data": {
            "text/plain": [
              "<IPython.core.display.SVG object>"
            ],
            "image/svg+xml": "<svg baseProfile=\"full\" height=\"290px\" version=\"1.1\" width=\"290px\" xmlns=\"http://www.w3.org/2000/svg\" xmlns:ev=\"http://www.w3.org/2001/xml-events\" xmlns:xlink=\"http://www.w3.org/1999/xlink\"><defs/><rect fill=\"rgb(255,252,244)\" height=\"289px\" stroke=\"none\" width=\"289px\" x=\"1\" y=\"1\"/><line stroke=\"rgb(20%,20%,20%)\" stroke-width=\"2.5\" x1=\"1\" x2=\"1\" y1=\"1\" y2=\"289\"/><line stroke=\"rgb(20%,20%,20%)\" stroke-width=\"2.5\" x1=\"1\" x2=\"289\" y1=\"1\" y2=\"1\"/><line stroke=\"rgb(20%,20%,20%)\" stroke-width=\"1\" x1=\"33\" x2=\"33\" y1=\"1\" y2=\"289\"/><line stroke=\"rgb(20%,20%,20%)\" stroke-width=\"1\" x1=\"1\" x2=\"289\" y1=\"33\" y2=\"33\"/><line stroke=\"rgb(20%,20%,20%)\" stroke-width=\"1\" x1=\"65\" x2=\"65\" y1=\"1\" y2=\"289\"/><line stroke=\"rgb(20%,20%,20%)\" stroke-width=\"1\" x1=\"1\" x2=\"289\" y1=\"65\" y2=\"65\"/><line stroke=\"rgb(20%,20%,20%)\" stroke-width=\"2.5\" x1=\"97\" x2=\"97\" y1=\"1\" y2=\"289\"/><line stroke=\"rgb(20%,20%,20%)\" stroke-width=\"2.5\" x1=\"1\" x2=\"289\" y1=\"97\" y2=\"97\"/><line stroke=\"rgb(20%,20%,20%)\" stroke-width=\"1\" x1=\"129\" x2=\"129\" y1=\"1\" y2=\"289\"/><line stroke=\"rgb(20%,20%,20%)\" stroke-width=\"1\" x1=\"1\" x2=\"289\" y1=\"129\" y2=\"129\"/><line stroke=\"rgb(20%,20%,20%)\" stroke-width=\"1\" x1=\"161\" x2=\"161\" y1=\"1\" y2=\"289\"/><line stroke=\"rgb(20%,20%,20%)\" stroke-width=\"1\" x1=\"1\" x2=\"289\" y1=\"161\" y2=\"161\"/><line stroke=\"rgb(20%,20%,20%)\" stroke-width=\"2.5\" x1=\"193\" x2=\"193\" y1=\"1\" y2=\"289\"/><line stroke=\"rgb(20%,20%,20%)\" stroke-width=\"2.5\" x1=\"1\" x2=\"289\" y1=\"193\" y2=\"193\"/><line stroke=\"rgb(20%,20%,20%)\" stroke-width=\"1\" x1=\"225\" x2=\"225\" y1=\"1\" y2=\"289\"/><line stroke=\"rgb(20%,20%,20%)\" stroke-width=\"1\" x1=\"1\" x2=\"289\" y1=\"225\" y2=\"225\"/><line stroke=\"rgb(20%,20%,20%)\" stroke-width=\"1\" x1=\"257\" x2=\"257\" y1=\"1\" y2=\"289\"/><line stroke=\"rgb(20%,20%,20%)\" stroke-width=\"1\" x1=\"1\" x2=\"289\" y1=\"257\" y2=\"257\"/><line stroke=\"rgb(20%,20%,20%)\" stroke-width=\"2.5\" x1=\"289\" x2=\"289\" y1=\"1\" y2=\"289\"/><line stroke=\"rgb(20%,20%,20%)\" stroke-width=\"2.5\" x1=\"1\" x2=\"289\" y1=\"289\" y2=\"289\"/><text fill=\"rgb(0,0,0)\" font-size=\"30\" x=\"9\" y=\"28\">1</text><text fill=\"rgb(0,0,0)\" font-size=\"30\" x=\"9\" y=\"60\">1</text><text fill=\"rgb(64,64,64)\" font-size=\"10\" x=\"5\" y=\"75.5\">1</text><text fill=\"rgb(255,0,0)\" font-size=\"10\" x=\"4.5\" y=\"75.5\">X</text><text fill=\"rgb(64,64,64)\" font-size=\"10\" x=\"14\" y=\"75.5\">2</text><text fill=\"rgb(64,64,64)\" font-size=\"10\" x=\"23\" y=\"75.5\">3</text><text fill=\"rgb(255,0,0)\" font-size=\"10\" x=\"22.5\" y=\"75.5\">X</text><text fill=\"rgb(64,64,64)\" font-size=\"10\" x=\"5\" y=\"84.5\">4</text><text fill=\"rgb(255,0,0)\" font-size=\"10\" x=\"4.5\" y=\"84.5\">X</text><text fill=\"rgb(64,64,64)\" font-size=\"10\" x=\"14\" y=\"84.5\">5</text><text fill=\"rgb(255,0,0)\" font-size=\"10\" x=\"13.5\" y=\"84.5\">X</text><text fill=\"rgb(64,64,64)\" font-size=\"10\" x=\"23\" y=\"84.5\">6</text><text fill=\"rgb(255,0,0)\" font-size=\"10\" x=\"22.5\" y=\"84.5\">X</text><text fill=\"rgb(64,64,64)\" font-size=\"10\" x=\"5\" y=\"93.5\">7</text><text fill=\"rgb(255,0,0)\" font-size=\"10\" x=\"4.5\" y=\"93.5\">X</text><text fill=\"rgb(64,64,64)\" font-size=\"10\" x=\"14\" y=\"93.5\">8</text><text fill=\"rgb(255,0,0)\" font-size=\"10\" x=\"13.5\" y=\"93.5\">X</text><text fill=\"rgb(64,64,64)\" font-size=\"10\" x=\"23\" y=\"93.5\">9</text><text fill=\"rgb(64,64,64)\" font-size=\"10\" x=\"5\" y=\"107.5\">1</text><text fill=\"rgb(255,0,0)\" font-size=\"10\" x=\"4.5\" y=\"107.5\">X</text><text fill=\"rgb(64,64,64)\" font-size=\"10\" x=\"14\" y=\"107.5\">2</text><text fill=\"rgb(64,64,64)\" font-size=\"10\" x=\"23\" y=\"107.5\">3</text><text fill=\"rgb(64,64,64)\" font-size=\"10\" x=\"5\" y=\"116.5\">4</text><text fill=\"rgb(255,0,0)\" font-size=\"10\" x=\"4.5\" y=\"116.5\">X</text><text fill=\"rgb(64,64,64)\" font-size=\"10\" x=\"14\" y=\"116.5\">5</text><text fill=\"rgb(64,64,64)\" font-size=\"10\" x=\"23\" y=\"116.5\">6</text><text fill=\"rgb(255,0,0)\" font-size=\"10\" x=\"22.5\" y=\"116.5\">X</text><text fill=\"rgb(64,64,64)\" font-size=\"10\" x=\"5\" y=\"125.5\">7</text><text fill=\"rgb(255,0,0)\" font-size=\"10\" x=\"4.5\" y=\"125.5\">X</text><text fill=\"rgb(64,64,64)\" font-size=\"10\" x=\"14\" y=\"125.5\">8</text><text fill=\"rgb(255,0,0)\" font-size=\"10\" x=\"13.5\" y=\"125.5\">X</text><text fill=\"rgb(64,64,64)\" font-size=\"10\" x=\"23\" y=\"125.5\">9</text><text fill=\"rgb(64,64,64)\" font-size=\"10\" x=\"5\" y=\"139.5\">1</text><text fill=\"rgb(255,0,0)\" font-size=\"10\" x=\"4.5\" y=\"139.5\">X</text><text fill=\"rgb(64,64,64)\" font-size=\"10\" x=\"14\" y=\"139.5\">2</text><text fill=\"rgb(64,64,64)\" font-size=\"10\" x=\"23\" y=\"139.5\">3</text><text fill=\"rgb(64,64,64)\" font-size=\"10\" x=\"5\" y=\"148.5\">4</text><text fill=\"rgb(64,64,64)\" font-size=\"10\" x=\"14\" y=\"148.5\">5</text><text fill=\"rgb(255,0,0)\" font-size=\"10\" x=\"13.5\" y=\"148.5\">X</text><text fill=\"rgb(64,64,64)\" font-size=\"10\" x=\"23\" y=\"148.5\">6</text><text fill=\"rgb(64,64,64)\" font-size=\"10\" x=\"5\" y=\"157.5\">7</text><text fill=\"rgb(255,0,0)\" font-size=\"10\" x=\"4.5\" y=\"157.5\">X</text><text fill=\"rgb(64,64,64)\" font-size=\"10\" x=\"14\" y=\"157.5\">8</text><text fill=\"rgb(255,0,0)\" font-size=\"10\" x=\"13.5\" y=\"157.5\">X</text><text fill=\"rgb(64,64,64)\" font-size=\"10\" x=\"23\" y=\"157.5\">9</text><text fill=\"rgb(255,0,0)\" font-size=\"10\" x=\"22.5\" y=\"157.5\">X</text><text fill=\"rgb(64,64,64)\" font-size=\"10\" x=\"5\" y=\"171.5\">1</text><text fill=\"rgb(255,0,0)\" font-size=\"10\" x=\"4.5\" y=\"171.5\">X</text><text fill=\"rgb(64,64,64)\" font-size=\"10\" x=\"14\" y=\"171.5\">2</text><text fill=\"rgb(255,0,0)\" font-size=\"10\" x=\"13.5\" y=\"171.5\">X</text><text fill=\"rgb(64,64,64)\" font-size=\"10\" x=\"23\" y=\"171.5\">3</text><text fill=\"rgb(64,64,64)\" font-size=\"10\" x=\"5\" y=\"180.5\">4</text><text fill=\"rgb(64,64,64)\" font-size=\"10\" x=\"14\" y=\"180.5\">5</text><text fill=\"rgb(255,0,0)\" font-size=\"10\" x=\"13.5\" y=\"180.5\">X</text><text fill=\"rgb(64,64,64)\" font-size=\"10\" x=\"23\" y=\"180.5\">6</text><text fill=\"rgb(255,0,0)\" font-size=\"10\" x=\"22.5\" y=\"180.5\">X</text><text fill=\"rgb(64,64,64)\" font-size=\"10\" x=\"5\" y=\"189.5\">7</text><text fill=\"rgb(255,0,0)\" font-size=\"10\" x=\"4.5\" y=\"189.5\">X</text><text fill=\"rgb(64,64,64)\" font-size=\"10\" x=\"14\" y=\"189.5\">8</text><text fill=\"rgb(255,0,0)\" font-size=\"10\" x=\"13.5\" y=\"189.5\">X</text><text fill=\"rgb(64,64,64)\" font-size=\"10\" x=\"23\" y=\"189.5\">9</text><text fill=\"rgb(64,64,64)\" font-size=\"10\" x=\"5\" y=\"203.5\">1</text><text fill=\"rgb(64,64,64)\" font-size=\"10\" x=\"14\" y=\"203.5\">2</text><text fill=\"rgb(64,64,64)\" font-size=\"10\" x=\"23\" y=\"203.5\">3</text><text fill=\"rgb(255,0,0)\" font-size=\"10\" x=\"22.5\" y=\"203.5\">X</text><text fill=\"rgb(64,64,64)\" font-size=\"10\" x=\"5\" y=\"212.5\">4</text><text fill=\"rgb(64,64,64)\" font-size=\"10\" x=\"14\" y=\"212.5\">5</text><text fill=\"rgb(255,0,0)\" font-size=\"10\" x=\"13.5\" y=\"212.5\">X</text><text fill=\"rgb(64,64,64)\" font-size=\"10\" x=\"23\" y=\"212.5\">6</text><text fill=\"rgb(255,0,0)\" font-size=\"10\" x=\"22.5\" y=\"212.5\">X</text><text fill=\"rgb(64,64,64)\" font-size=\"10\" x=\"5\" y=\"221.5\">7</text><text fill=\"rgb(255,0,0)\" font-size=\"10\" x=\"4.5\" y=\"221.5\">X</text><text fill=\"rgb(64,64,64)\" font-size=\"10\" x=\"14\" y=\"221.5\">8</text><text fill=\"rgb(255,0,0)\" font-size=\"10\" x=\"13.5\" y=\"221.5\">X</text><text fill=\"rgb(64,64,64)\" font-size=\"10\" x=\"23\" y=\"221.5\">9</text><text fill=\"rgb(255,0,0)\" font-size=\"10\" x=\"22.5\" y=\"221.5\">X</text><text fill=\"rgb(64,64,64)\" font-size=\"10\" x=\"5\" y=\"235.5\">1</text><text fill=\"rgb(64,64,64)\" font-size=\"10\" x=\"14\" y=\"235.5\">2</text><text fill=\"rgb(255,0,0)\" font-size=\"10\" x=\"13.5\" y=\"235.5\">X</text><text fill=\"rgb(64,64,64)\" font-size=\"10\" x=\"23\" y=\"235.5\">3</text><text fill=\"rgb(255,0,0)\" font-size=\"10\" x=\"22.5\" y=\"235.5\">X</text><text fill=\"rgb(64,64,64)\" font-size=\"10\" x=\"5\" y=\"244.5\">4</text><text fill=\"rgb(64,64,64)\" font-size=\"10\" x=\"14\" y=\"244.5\">5</text><text fill=\"rgb(64,64,64)\" font-size=\"10\" x=\"23\" y=\"244.5\">6</text><text fill=\"rgb(64,64,64)\" font-size=\"10\" x=\"5\" y=\"253.5\">7</text><text fill=\"rgb(64,64,64)\" font-size=\"10\" x=\"14\" y=\"253.5\">8</text><text fill=\"rgb(64,64,64)\" font-size=\"10\" x=\"23\" y=\"253.5\">9</text><text fill=\"rgb(64,64,64)\" font-size=\"10\" x=\"5\" y=\"267.5\">1</text><text fill=\"rgb(255,0,0)\" font-size=\"10\" x=\"4.5\" y=\"267.5\">X</text><text fill=\"rgb(64,64,64)\" font-size=\"10\" x=\"14\" y=\"267.5\">2</text><text fill=\"rgb(64,64,64)\" font-size=\"10\" x=\"23\" y=\"267.5\">3</text><text fill=\"rgb(255,0,0)\" font-size=\"10\" x=\"22.5\" y=\"267.5\">X</text><text fill=\"rgb(64,64,64)\" font-size=\"10\" x=\"5\" y=\"276.5\">4</text><text fill=\"rgb(255,0,0)\" font-size=\"10\" x=\"4.5\" y=\"276.5\">X</text><text fill=\"rgb(64,64,64)\" font-size=\"10\" x=\"14\" y=\"276.5\">5</text><text fill=\"rgb(64,64,64)\" font-size=\"10\" x=\"23\" y=\"276.5\">6</text><text fill=\"rgb(255,0,0)\" font-size=\"10\" x=\"22.5\" y=\"276.5\">X</text><text fill=\"rgb(64,64,64)\" font-size=\"10\" x=\"5\" y=\"285.5\">7</text><text fill=\"rgb(64,64,64)\" font-size=\"10\" x=\"14\" y=\"285.5\">8</text><text fill=\"rgb(64,64,64)\" font-size=\"10\" x=\"23\" y=\"285.5\">9</text><text fill=\"rgb(255,0,0)\" font-size=\"10\" x=\"22.5\" y=\"285.5\">X</text><text fill=\"rgb(0,0,0)\" font-size=\"30\" x=\"41\" y=\"28\">2</text><text fill=\"rgb(0,0,0)\" font-size=\"30\" x=\"41\" y=\"60\">2</text><text fill=\"rgb(0,0,0)\" font-size=\"30\" x=\"41\" y=\"92\">2</text><text fill=\"rgb(64,64,64)\" font-size=\"10\" x=\"37\" y=\"107.5\">1</text><text fill=\"rgb(64,64,64)\" font-size=\"10\" x=\"46\" y=\"107.5\">2</text><text fill=\"rgb(255,0,0)\" font-size=\"10\" x=\"45.5\" y=\"107.5\">X</text><text fill=\"rgb(64,64,64)\" font-size=\"10\" x=\"55\" y=\"107.5\">3</text><text fill=\"rgb(255,0,0)\" font-size=\"10\" x=\"54.5\" y=\"107.5\">X</text><text fill=\"rgb(64,64,64)\" font-size=\"10\" x=\"37\" y=\"116.5\">4</text><text fill=\"rgb(64,64,64)\" font-size=\"10\" x=\"46\" y=\"116.5\">5</text><text fill=\"rgb(255,0,0)\" font-size=\"10\" x=\"45.5\" y=\"116.5\">X</text><text fill=\"rgb(64,64,64)\" font-size=\"10\" x=\"55\" y=\"116.5\">6</text><text fill=\"rgb(64,64,64)\" font-size=\"10\" x=\"37\" y=\"125.5\">7</text><text fill=\"rgb(255,0,0)\" font-size=\"10\" x=\"36.5\" y=\"125.5\">X</text><text fill=\"rgb(64,64,64)\" font-size=\"10\" x=\"46\" y=\"125.5\">8</text><text fill=\"rgb(255,0,0)\" font-size=\"10\" x=\"45.5\" y=\"125.5\">X</text><text fill=\"rgb(64,64,64)\" font-size=\"10\" x=\"55\" y=\"125.5\">9</text><text fill=\"rgb(255,0,0)\" font-size=\"10\" x=\"54.5\" y=\"125.5\">X</text><text fill=\"rgb(64,64,64)\" font-size=\"10\" x=\"37\" y=\"139.5\">1</text><text fill=\"rgb(64,64,64)\" font-size=\"10\" x=\"46\" y=\"139.5\">2</text><text fill=\"rgb(64,64,64)\" font-size=\"10\" x=\"55\" y=\"139.5\">3</text><text fill=\"rgb(255,0,0)\" font-size=\"10\" x=\"54.5\" y=\"139.5\">X</text><text fill=\"rgb(64,64,64)\" font-size=\"10\" x=\"37\" y=\"148.5\">4</text><text fill=\"rgb(255,0,0)\" font-size=\"10\" x=\"36.5\" y=\"148.5\">X</text><text fill=\"rgb(64,64,64)\" font-size=\"10\" x=\"46\" y=\"148.5\">5</text><text fill=\"rgb(64,64,64)\" font-size=\"10\" x=\"55\" y=\"148.5\">6</text><text fill=\"rgb(255,0,0)\" font-size=\"10\" x=\"54.5\" y=\"148.5\">X</text><text fill=\"rgb(64,64,64)\" font-size=\"10\" x=\"37\" y=\"157.5\">7</text><text fill=\"rgb(64,64,64)\" font-size=\"10\" x=\"46\" y=\"157.5\">8</text><text fill=\"rgb(64,64,64)\" font-size=\"10\" x=\"55\" y=\"157.5\">9</text><text fill=\"rgb(64,64,64)\" font-size=\"10\" x=\"37\" y=\"171.5\">1</text><text fill=\"rgb(64,64,64)\" font-size=\"10\" x=\"46\" y=\"171.5\">2</text><text fill=\"rgb(255,0,0)\" font-size=\"10\" x=\"45.5\" y=\"171.5\">X</text><text fill=\"rgb(64,64,64)\" font-size=\"10\" x=\"55\" y=\"171.5\">3</text><text fill=\"rgb(64,64,64)\" font-size=\"10\" x=\"37\" y=\"180.5\">4</text><text fill=\"rgb(64,64,64)\" font-size=\"10\" x=\"46\" y=\"180.5\">5</text><text fill=\"rgb(64,64,64)\" font-size=\"10\" x=\"55\" y=\"180.5\">6</text><text fill=\"rgb(64,64,64)\" font-size=\"10\" x=\"37\" y=\"189.5\">7</text><text fill=\"rgb(64,64,64)\" font-size=\"10\" x=\"46\" y=\"189.5\">8</text><text fill=\"rgb(255,0,0)\" font-size=\"10\" x=\"45.5\" y=\"189.5\">X</text><text fill=\"rgb(64,64,64)\" font-size=\"10\" x=\"55\" y=\"189.5\">9</text><text fill=\"rgb(64,64,64)\" font-size=\"10\" x=\"37\" y=\"203.5\">1</text><text fill=\"rgb(64,64,64)\" font-size=\"10\" x=\"46\" y=\"203.5\">2</text><text fill=\"rgb(255,0,0)\" font-size=\"10\" x=\"45.5\" y=\"203.5\">X</text><text fill=\"rgb(64,64,64)\" font-size=\"10\" x=\"55\" y=\"203.5\">3</text><text fill=\"rgb(255,0,0)\" font-size=\"10\" x=\"54.5\" y=\"203.5\">X</text><text fill=\"rgb(64,64,64)\" font-size=\"10\" x=\"37\" y=\"212.5\">4</text><text fill=\"rgb(64,64,64)\" font-size=\"10\" x=\"46\" y=\"212.5\">5</text><text fill=\"rgb(255,0,0)\" font-size=\"10\" x=\"45.5\" y=\"212.5\">X</text><text fill=\"rgb(64,64,64)\" font-size=\"10\" x=\"55\" y=\"212.5\">6</text><text fill=\"rgb(255,0,0)\" font-size=\"10\" x=\"54.5\" y=\"212.5\">X</text><text fill=\"rgb(64,64,64)\" font-size=\"10\" x=\"37\" y=\"221.5\">7</text><text fill=\"rgb(255,0,0)\" font-size=\"10\" x=\"36.5\" y=\"221.5\">X</text><text fill=\"rgb(64,64,64)\" font-size=\"10\" x=\"46\" y=\"221.5\">8</text><text fill=\"rgb(255,0,0)\" font-size=\"10\" x=\"45.5\" y=\"221.5\">X</text><text fill=\"rgb(64,64,64)\" font-size=\"10\" x=\"55\" y=\"221.5\">9</text><text fill=\"rgb(64,64,64)\" font-size=\"10\" x=\"37\" y=\"235.5\">1</text><text fill=\"rgb(255,0,0)\" font-size=\"10\" x=\"36.5\" y=\"235.5\">X</text><text fill=\"rgb(64,64,64)\" font-size=\"10\" x=\"46\" y=\"235.5\">2</text><text fill=\"rgb(255,0,0)\" font-size=\"10\" x=\"45.5\" y=\"235.5\">X</text><text fill=\"rgb(64,64,64)\" font-size=\"10\" x=\"55\" y=\"235.5\">3</text><text fill=\"rgb(255,0,0)\" font-size=\"10\" x=\"54.5\" y=\"235.5\">X</text><text fill=\"rgb(64,64,64)\" font-size=\"10\" x=\"37\" y=\"244.5\">4</text><text fill=\"rgb(255,0,0)\" font-size=\"10\" x=\"36.5\" y=\"244.5\">X</text><text fill=\"rgb(64,64,64)\" font-size=\"10\" x=\"46\" y=\"244.5\">5</text><text fill=\"rgb(255,0,0)\" font-size=\"10\" x=\"45.5\" y=\"244.5\">X</text><text fill=\"rgb(64,64,64)\" font-size=\"10\" x=\"55\" y=\"244.5\">6</text><text fill=\"rgb(64,64,64)\" font-size=\"10\" x=\"37\" y=\"253.5\">7</text><text fill=\"rgb(255,0,0)\" font-size=\"10\" x=\"36.5\" y=\"253.5\">X</text><text fill=\"rgb(64,64,64)\" font-size=\"10\" x=\"46\" y=\"253.5\">8</text><text fill=\"rgb(64,64,64)\" font-size=\"10\" x=\"55\" y=\"253.5\">9</text><text fill=\"rgb(255,0,0)\" font-size=\"10\" x=\"54.5\" y=\"253.5\">X</text><text fill=\"rgb(0,0,0)\" font-size=\"30\" x=\"41\" y=\"284\">1</text><text fill=\"rgb(64,64,64)\" font-size=\"10\" x=\"69\" y=\"11.5\">1</text><text fill=\"rgb(255,0,0)\" font-size=\"10\" x=\"68.5\" y=\"11.5\">X</text><text fill=\"rgb(64,64,64)\" font-size=\"10\" x=\"78\" y=\"11.5\">2</text><text fill=\"rgb(255,0,0)\" font-size=\"10\" x=\"77.5\" y=\"11.5\">X</text><text fill=\"rgb(64,64,64)\" font-size=\"10\" x=\"87\" y=\"11.5\">3</text><text fill=\"rgb(64,64,64)\" font-size=\"10\" x=\"69\" y=\"20.5\">4</text><text fill=\"rgb(64,64,64)\" font-size=\"10\" x=\"78\" y=\"20.5\">5</text><text fill=\"rgb(255,0,0)\" font-size=\"10\" x=\"77.5\" y=\"20.5\">X</text><text fill=\"rgb(64,64,64)\" font-size=\"10\" x=\"87\" y=\"20.5\">6</text><text fill=\"rgb(255,0,0)\" font-size=\"10\" x=\"86.5\" y=\"20.5\">X</text><text fill=\"rgb(64,64,64)\" font-size=\"10\" x=\"69\" y=\"29.5\">7</text><text fill=\"rgb(255,0,0)\" font-size=\"10\" x=\"68.5\" y=\"29.5\">X</text><text fill=\"rgb(64,64,64)\" font-size=\"10\" x=\"78\" y=\"29.5\">8</text><text fill=\"rgb(255,0,0)\" font-size=\"10\" x=\"77.5\" y=\"29.5\">X</text><text fill=\"rgb(64,64,64)\" font-size=\"10\" x=\"87\" y=\"29.5\">9</text><text fill=\"rgb(255,0,0)\" font-size=\"10\" x=\"86.5\" y=\"29.5\">X</text><text fill=\"rgb(0,0,0)\" font-size=\"30\" x=\"73\" y=\"60\">3</text><text fill=\"rgb(0,0,0)\" font-size=\"30\" x=\"73\" y=\"92\">3</text><text fill=\"rgb(0,0,0)\" font-size=\"30\" x=\"73\" y=\"124\">3</text><text fill=\"rgb(64,64,64)\" font-size=\"10\" x=\"69\" y=\"139.5\">1</text><text fill=\"rgb(255,0,0)\" font-size=\"10\" x=\"68.5\" y=\"139.5\">X</text><text fill=\"rgb(64,64,64)\" font-size=\"10\" x=\"78\" y=\"139.5\">2</text><text fill=\"rgb(255,0,0)\" font-size=\"10\" x=\"77.5\" y=\"139.5\">X</text><text fill=\"rgb(64,64,64)\" font-size=\"10\" x=\"87\" y=\"139.5\">3</text><text fill=\"rgb(64,64,64)\" font-size=\"10\" x=\"69\" y=\"148.5\">4</text><text fill=\"rgb(255,0,0)\" font-size=\"10\" x=\"68.5\" y=\"148.5\">X</text><text fill=\"rgb(64,64,64)\" font-size=\"10\" x=\"78\" y=\"148.5\">5</text><text fill=\"rgb(255,0,0)\" font-size=\"10\" x=\"77.5\" y=\"148.5\">X</text><text fill=\"rgb(64,64,64)\" font-size=\"10\" x=\"87\" y=\"148.5\">6</text><text fill=\"rgb(255,0,0)\" font-size=\"10\" x=\"86.5\" y=\"148.5\">X</text><text fill=\"rgb(64,64,64)\" font-size=\"10\" x=\"69\" y=\"157.5\">7</text><text fill=\"rgb(64,64,64)\" font-size=\"10\" x=\"78\" y=\"157.5\">8</text><text fill=\"rgb(255,0,0)\" font-size=\"10\" x=\"77.5\" y=\"157.5\">X</text><text fill=\"rgb(64,64,64)\" font-size=\"10\" x=\"87\" y=\"157.5\">9</text><text fill=\"rgb(64,64,64)\" font-size=\"10\" x=\"69\" y=\"171.5\">1</text><text fill=\"rgb(64,64,64)\" font-size=\"10\" x=\"78\" y=\"171.5\">2</text><text fill=\"rgb(255,0,0)\" font-size=\"10\" x=\"77.5\" y=\"171.5\">X</text><text fill=\"rgb(64,64,64)\" font-size=\"10\" x=\"87\" y=\"171.5\">3</text><text fill=\"rgb(255,0,0)\" font-size=\"10\" x=\"86.5\" y=\"171.5\">X</text><text fill=\"rgb(64,64,64)\" font-size=\"10\" x=\"69\" y=\"180.5\">4</text><text fill=\"rgb(255,0,0)\" font-size=\"10\" x=\"68.5\" y=\"180.5\">X</text><text fill=\"rgb(64,64,64)\" font-size=\"10\" x=\"78\" y=\"180.5\">5</text><text fill=\"rgb(255,0,0)\" font-size=\"10\" x=\"77.5\" y=\"180.5\">X</text><text fill=\"rgb(64,64,64)\" font-size=\"10\" x=\"87\" y=\"180.5\">6</text><text fill=\"rgb(255,0,0)\" font-size=\"10\" x=\"86.5\" y=\"180.5\">X</text><text fill=\"rgb(64,64,64)\" font-size=\"10\" x=\"69\" y=\"189.5\">7</text><text fill=\"rgb(255,0,0)\" font-size=\"10\" x=\"68.5\" y=\"189.5\">X</text><text fill=\"rgb(64,64,64)\" font-size=\"10\" x=\"78\" y=\"189.5\">8</text><text fill=\"rgb(255,0,0)\" font-size=\"10\" x=\"77.5\" y=\"189.5\">X</text><text fill=\"rgb(64,64,64)\" font-size=\"10\" x=\"87\" y=\"189.5\">9</text><text fill=\"rgb(64,64,64)\" font-size=\"10\" x=\"69\" y=\"203.5\">1</text><text fill=\"rgb(255,0,0)\" font-size=\"10\" x=\"68.5\" y=\"203.5\">X</text><text fill=\"rgb(64,64,64)\" font-size=\"10\" x=\"78\" y=\"203.5\">2</text><text fill=\"rgb(255,0,0)\" font-size=\"10\" x=\"77.5\" y=\"203.5\">X</text><text fill=\"rgb(64,64,64)\" font-size=\"10\" x=\"87\" y=\"203.5\">3</text><text fill=\"rgb(255,0,0)\" font-size=\"10\" x=\"86.5\" y=\"203.5\">X</text><text fill=\"rgb(64,64,64)\" font-size=\"10\" x=\"69\" y=\"212.5\">4</text><text fill=\"rgb(255,0,0)\" font-size=\"10\" x=\"68.5\" y=\"212.5\">X</text><text fill=\"rgb(64,64,64)\" font-size=\"10\" x=\"78\" y=\"212.5\">5</text><text fill=\"rgb(64,64,64)\" font-size=\"10\" x=\"87\" y=\"212.5\">6</text><text fill=\"rgb(64,64,64)\" font-size=\"10\" x=\"69\" y=\"221.5\">7</text><text fill=\"rgb(255,0,0)\" font-size=\"10\" x=\"68.5\" y=\"221.5\">X</text><text fill=\"rgb(64,64,64)\" font-size=\"10\" x=\"78\" y=\"221.5\">8</text><text fill=\"rgb(255,0,0)\" font-size=\"10\" x=\"77.5\" y=\"221.5\">X</text><text fill=\"rgb(64,64,64)\" font-size=\"10\" x=\"87\" y=\"221.5\">9</text><text fill=\"rgb(64,64,64)\" font-size=\"10\" x=\"69\" y=\"235.5\">1</text><text fill=\"rgb(64,64,64)\" font-size=\"10\" x=\"78\" y=\"235.5\">2</text><text fill=\"rgb(255,0,0)\" font-size=\"10\" x=\"77.5\" y=\"235.5\">X</text><text fill=\"rgb(64,64,64)\" font-size=\"10\" x=\"87\" y=\"235.5\">3</text><text fill=\"rgb(255,0,0)\" font-size=\"10\" x=\"86.5\" y=\"235.5\">X</text><text fill=\"rgb(64,64,64)\" font-size=\"10\" x=\"69\" y=\"244.5\">4</text><text fill=\"rgb(255,0,0)\" font-size=\"10\" x=\"68.5\" y=\"244.5\">X</text><text fill=\"rgb(64,64,64)\" font-size=\"10\" x=\"78\" y=\"244.5\">5</text><text fill=\"rgb(255,0,0)\" font-size=\"10\" x=\"77.5\" y=\"244.5\">X</text><text fill=\"rgb(64,64,64)\" font-size=\"10\" x=\"87\" y=\"244.5\">6</text><text fill=\"rgb(255,0,0)\" font-size=\"10\" x=\"86.5\" y=\"244.5\">X</text><text fill=\"rgb(64,64,64)\" font-size=\"10\" x=\"69\" y=\"253.5\">7</text><text fill=\"rgb(64,64,64)\" font-size=\"10\" x=\"78\" y=\"253.5\">8</text><text fill=\"rgb(64,64,64)\" font-size=\"10\" x=\"87\" y=\"253.5\">9</text><text fill=\"rgb(64,64,64)\" font-size=\"10\" x=\"69\" y=\"267.5\">1</text><text fill=\"rgb(255,0,0)\" font-size=\"10\" x=\"68.5\" y=\"267.5\">X</text><text fill=\"rgb(64,64,64)\" font-size=\"10\" x=\"78\" y=\"267.5\">2</text><text fill=\"rgb(255,0,0)\" font-size=\"10\" x=\"77.5\" y=\"267.5\">X</text><text fill=\"rgb(64,64,64)\" font-size=\"10\" x=\"87\" y=\"267.5\">3</text><text fill=\"rgb(255,0,0)\" font-size=\"10\" x=\"86.5\" y=\"267.5\">X</text><text fill=\"rgb(64,64,64)\" font-size=\"10\" x=\"69\" y=\"276.5\">4</text><text fill=\"rgb(255,0,0)\" font-size=\"10\" x=\"68.5\" y=\"276.5\">X</text><text fill=\"rgb(64,64,64)\" font-size=\"10\" x=\"78\" y=\"276.5\">5</text><text fill=\"rgb(64,64,64)\" font-size=\"10\" x=\"87\" y=\"276.5\">6</text><text fill=\"rgb(64,64,64)\" font-size=\"10\" x=\"69\" y=\"285.5\">7</text><text fill=\"rgb(64,64,64)\" font-size=\"10\" x=\"78\" y=\"285.5\">8</text><text fill=\"rgb(255,0,0)\" font-size=\"10\" x=\"77.5\" y=\"285.5\">X</text><text fill=\"rgb(64,64,64)\" font-size=\"10\" x=\"87\" y=\"285.5\">9</text><text fill=\"rgb(64,64,64)\" font-size=\"10\" x=\"101\" y=\"11.5\">1</text><text fill=\"rgb(255,0,0)\" font-size=\"10\" x=\"100.5\" y=\"11.5\">X</text><text fill=\"rgb(64,64,64)\" font-size=\"10\" x=\"110\" y=\"11.5\">2</text><text fill=\"rgb(255,0,0)\" font-size=\"10\" x=\"109.5\" y=\"11.5\">X</text><text fill=\"rgb(64,64,64)\" font-size=\"10\" x=\"119\" y=\"11.5\">3</text><text fill=\"rgb(64,64,64)\" font-size=\"10\" x=\"101\" y=\"20.5\">4</text><text fill=\"rgb(255,0,0)\" font-size=\"10\" x=\"100.5\" y=\"20.5\">X</text><text fill=\"rgb(64,64,64)\" font-size=\"10\" x=\"110\" y=\"20.5\">5</text><text fill=\"rgb(255,0,0)\" font-size=\"10\" x=\"109.5\" y=\"20.5\">X</text><text fill=\"rgb(64,64,64)\" font-size=\"10\" x=\"119\" y=\"20.5\">6</text><text fill=\"rgb(255,0,0)\" font-size=\"10\" x=\"118.5\" y=\"20.5\">X</text><text fill=\"rgb(64,64,64)\" font-size=\"10\" x=\"101\" y=\"29.5\">7</text><text fill=\"rgb(64,64,64)\" font-size=\"10\" x=\"110\" y=\"29.5\">8</text><text fill=\"rgb(64,64,64)\" font-size=\"10\" x=\"119\" y=\"29.5\">9</text><text fill=\"rgb(255,0,0)\" font-size=\"10\" x=\"118.5\" y=\"29.5\">X</text><text fill=\"rgb(64,64,64)\" font-size=\"10\" x=\"101\" y=\"43.5\">1</text><text fill=\"rgb(255,0,0)\" font-size=\"10\" x=\"100.5\" y=\"43.5\">X</text><text fill=\"rgb(64,64,64)\" font-size=\"10\" x=\"110\" y=\"43.5\">2</text><text fill=\"rgb(64,64,64)\" font-size=\"10\" x=\"119\" y=\"43.5\">3</text><text fill=\"rgb(64,64,64)\" font-size=\"10\" x=\"101\" y=\"52.5\">4</text><text fill=\"rgb(64,64,64)\" font-size=\"10\" x=\"110\" y=\"52.5\">5</text><text fill=\"rgb(255,0,0)\" font-size=\"10\" x=\"109.5\" y=\"52.5\">X</text><text fill=\"rgb(64,64,64)\" font-size=\"10\" x=\"119\" y=\"52.5\">6</text><text fill=\"rgb(255,0,0)\" font-size=\"10\" x=\"118.5\" y=\"52.5\">X</text><text fill=\"rgb(64,64,64)\" font-size=\"10\" x=\"101\" y=\"61.5\">7</text><text fill=\"rgb(255,0,0)\" font-size=\"10\" x=\"100.5\" y=\"61.5\">X</text><text fill=\"rgb(64,64,64)\" font-size=\"10\" x=\"110\" y=\"61.5\">8</text><text fill=\"rgb(255,0,0)\" font-size=\"10\" x=\"109.5\" y=\"61.5\">X</text><text fill=\"rgb(64,64,64)\" font-size=\"10\" x=\"119\" y=\"61.5\">9</text><text fill=\"rgb(0,0,0)\" font-size=\"30\" x=\"105\" y=\"92\">4</text><text fill=\"rgb(0,0,0)\" font-size=\"30\" x=\"105\" y=\"124\">4</text><text fill=\"rgb(0,0,0)\" font-size=\"30\" x=\"105\" y=\"156\">4</text><text fill=\"rgb(64,64,64)\" font-size=\"10\" x=\"101\" y=\"171.5\">1</text><text fill=\"rgb(255,0,0)\" font-size=\"10\" x=\"100.5\" y=\"171.5\">X</text><text fill=\"rgb(64,64,64)\" font-size=\"10\" x=\"110\" y=\"171.5\">2</text><text fill=\"rgb(64,64,64)\" font-size=\"10\" x=\"119\" y=\"171.5\">3</text><text fill=\"rgb(64,64,64)\" font-size=\"10\" x=\"101\" y=\"180.5\">4</text><text fill=\"rgb(255,0,0)\" font-size=\"10\" x=\"100.5\" y=\"180.5\">X</text><text fill=\"rgb(64,64,64)\" font-size=\"10\" x=\"110\" y=\"180.5\">5</text><text fill=\"rgb(64,64,64)\" font-size=\"10\" x=\"119\" y=\"180.5\">6</text><text fill=\"rgb(255,0,0)\" font-size=\"10\" x=\"118.5\" y=\"180.5\">X</text><text fill=\"rgb(64,64,64)\" font-size=\"10\" x=\"101\" y=\"189.5\">7</text><text fill=\"rgb(255,0,0)\" font-size=\"10\" x=\"100.5\" y=\"189.5\">X</text><text fill=\"rgb(64,64,64)\" font-size=\"10\" x=\"110\" y=\"189.5\">8</text><text fill=\"rgb(255,0,0)\" font-size=\"10\" x=\"109.5\" y=\"189.5\">X</text><text fill=\"rgb(64,64,64)\" font-size=\"10\" x=\"119\" y=\"189.5\">9</text><text fill=\"rgb(255,0,0)\" font-size=\"10\" x=\"118.5\" y=\"189.5\">X</text><text fill=\"rgb(64,64,64)\" font-size=\"10\" x=\"101\" y=\"203.5\">1</text><text fill=\"rgb(255,0,0)\" font-size=\"10\" x=\"100.5\" y=\"203.5\">X</text><text fill=\"rgb(64,64,64)\" font-size=\"10\" x=\"110\" y=\"203.5\">2</text><text fill=\"rgb(64,64,64)\" font-size=\"10\" x=\"119\" y=\"203.5\">3</text><text fill=\"rgb(255,0,0)\" font-size=\"10\" x=\"118.5\" y=\"203.5\">X</text><text fill=\"rgb(64,64,64)\" font-size=\"10\" x=\"101\" y=\"212.5\">4</text><text fill=\"rgb(255,0,0)\" font-size=\"10\" x=\"100.5\" y=\"212.5\">X</text><text fill=\"rgb(64,64,64)\" font-size=\"10\" x=\"110\" y=\"212.5\">5</text><text fill=\"rgb(255,0,0)\" font-size=\"10\" x=\"109.5\" y=\"212.5\">X</text><text fill=\"rgb(64,64,64)\" font-size=\"10\" x=\"119\" y=\"212.5\">6</text><text fill=\"rgb(255,0,0)\" font-size=\"10\" x=\"118.5\" y=\"212.5\">X</text><text fill=\"rgb(64,64,64)\" font-size=\"10\" x=\"101\" y=\"221.5\">7</text><text fill=\"rgb(255,0,0)\" font-size=\"10\" x=\"100.5\" y=\"221.5\">X</text><text fill=\"rgb(64,64,64)\" font-size=\"10\" x=\"110\" y=\"221.5\">8</text><text fill=\"rgb(64,64,64)\" font-size=\"10\" x=\"119\" y=\"221.5\">9</text><text fill=\"rgb(255,0,0)\" font-size=\"10\" x=\"118.5\" y=\"221.5\">X</text><text fill=\"rgb(64,64,64)\" font-size=\"10\" x=\"101\" y=\"235.5\">1</text><text fill=\"rgb(255,0,0)\" font-size=\"10\" x=\"100.5\" y=\"235.5\">X</text><text fill=\"rgb(64,64,64)\" font-size=\"10\" x=\"110\" y=\"235.5\">2</text><text fill=\"rgb(255,0,0)\" font-size=\"10\" x=\"109.5\" y=\"235.5\">X</text><text fill=\"rgb(64,64,64)\" font-size=\"10\" x=\"119\" y=\"235.5\">3</text><text fill=\"rgb(255,0,0)\" font-size=\"10\" x=\"118.5\" y=\"235.5\">X</text><text fill=\"rgb(64,64,64)\" font-size=\"10\" x=\"101\" y=\"244.5\">4</text><text fill=\"rgb(64,64,64)\" font-size=\"10\" x=\"110\" y=\"244.5\">5</text><text fill=\"rgb(255,0,0)\" font-size=\"10\" x=\"109.5\" y=\"244.5\">X</text><text fill=\"rgb(64,64,64)\" font-size=\"10\" x=\"119\" y=\"244.5\">6</text><text fill=\"rgb(64,64,64)\" font-size=\"10\" x=\"101\" y=\"253.5\">7</text><text fill=\"rgb(255,0,0)\" font-size=\"10\" x=\"100.5\" y=\"253.5\">X</text><text fill=\"rgb(64,64,64)\" font-size=\"10\" x=\"110\" y=\"253.5\">8</text><text fill=\"rgb(255,0,0)\" font-size=\"10\" x=\"109.5\" y=\"253.5\">X</text><text fill=\"rgb(64,64,64)\" font-size=\"10\" x=\"119\" y=\"253.5\">9</text><text fill=\"rgb(64,64,64)\" font-size=\"10\" x=\"101\" y=\"267.5\">1</text><text fill=\"rgb(64,64,64)\" font-size=\"10\" x=\"110\" y=\"267.5\">2</text><text fill=\"rgb(255,0,0)\" font-size=\"10\" x=\"109.5\" y=\"267.5\">X</text><text fill=\"rgb(64,64,64)\" font-size=\"10\" x=\"119\" y=\"267.5\">3</text><text fill=\"rgb(255,0,0)\" font-size=\"10\" x=\"118.5\" y=\"267.5\">X</text><text fill=\"rgb(64,64,64)\" font-size=\"10\" x=\"101\" y=\"276.5\">4</text><text fill=\"rgb(64,64,64)\" font-size=\"10\" x=\"110\" y=\"276.5\">5</text><text fill=\"rgb(64,64,64)\" font-size=\"10\" x=\"119\" y=\"276.5\">6</text><text fill=\"rgb(64,64,64)\" font-size=\"10\" x=\"101\" y=\"285.5\">7</text><text fill=\"rgb(64,64,64)\" font-size=\"10\" x=\"110\" y=\"285.5\">8</text><text fill=\"rgb(255,0,0)\" font-size=\"10\" x=\"109.5\" y=\"285.5\">X</text><text fill=\"rgb(64,64,64)\" font-size=\"10\" x=\"119\" y=\"285.5\">9</text><text fill=\"rgb(64,64,64)\" font-size=\"10\" x=\"133\" y=\"11.5\">1</text><text fill=\"rgb(255,0,0)\" font-size=\"10\" x=\"132.5\" y=\"11.5\">X</text><text fill=\"rgb(64,64,64)\" font-size=\"10\" x=\"142\" y=\"11.5\">2</text><text fill=\"rgb(255,0,0)\" font-size=\"10\" x=\"141.5\" y=\"11.5\">X</text><text fill=\"rgb(64,64,64)\" font-size=\"10\" x=\"151\" y=\"11.5\">3</text><text fill=\"rgb(64,64,64)\" font-size=\"10\" x=\"133\" y=\"20.5\">4</text><text fill=\"rgb(255,0,0)\" font-size=\"10\" x=\"132.5\" y=\"20.5\">X</text><text fill=\"rgb(64,64,64)\" font-size=\"10\" x=\"142\" y=\"20.5\">5</text><text fill=\"rgb(64,64,64)\" font-size=\"10\" x=\"151\" y=\"20.5\">6</text><text fill=\"rgb(64,64,64)\" font-size=\"10\" x=\"133\" y=\"29.5\">7</text><text fill=\"rgb(255,0,0)\" font-size=\"10\" x=\"132.5\" y=\"29.5\">X</text><text fill=\"rgb(64,64,64)\" font-size=\"10\" x=\"142\" y=\"29.5\">8</text><text fill=\"rgb(255,0,0)\" font-size=\"10\" x=\"141.5\" y=\"29.5\">X</text><text fill=\"rgb(64,64,64)\" font-size=\"10\" x=\"151\" y=\"29.5\">9</text><text fill=\"rgb(255,0,0)\" font-size=\"10\" x=\"150.5\" y=\"29.5\">X</text><text fill=\"rgb(64,64,64)\" font-size=\"10\" x=\"133\" y=\"43.5\">1</text><text fill=\"rgb(255,0,0)\" font-size=\"10\" x=\"132.5\" y=\"43.5\">X</text><text fill=\"rgb(64,64,64)\" font-size=\"10\" x=\"142\" y=\"43.5\">2</text><text fill=\"rgb(255,0,0)\" font-size=\"10\" x=\"141.5\" y=\"43.5\">X</text><text fill=\"rgb(64,64,64)\" font-size=\"10\" x=\"151\" y=\"43.5\">3</text><text fill=\"rgb(255,0,0)\" font-size=\"10\" x=\"150.5\" y=\"43.5\">X</text><text fill=\"rgb(64,64,64)\" font-size=\"10\" x=\"133\" y=\"52.5\">4</text><text fill=\"rgb(255,0,0)\" font-size=\"10\" x=\"132.5\" y=\"52.5\">X</text><text fill=\"rgb(64,64,64)\" font-size=\"10\" x=\"142\" y=\"52.5\">5</text><text fill=\"rgb(255,0,0)\" font-size=\"10\" x=\"141.5\" y=\"52.5\">X</text><text fill=\"rgb(64,64,64)\" font-size=\"10\" x=\"151\" y=\"52.5\">6</text><text fill=\"rgb(64,64,64)\" font-size=\"10\" x=\"133\" y=\"61.5\">7</text><text fill=\"rgb(255,0,0)\" font-size=\"10\" x=\"132.5\" y=\"61.5\">X</text><text fill=\"rgb(64,64,64)\" font-size=\"10\" x=\"142\" y=\"61.5\">8</text><text fill=\"rgb(64,64,64)\" font-size=\"10\" x=\"151\" y=\"61.5\">9</text><text fill=\"rgb(255,0,0)\" font-size=\"10\" x=\"150.5\" y=\"61.5\">X</text><text fill=\"rgb(64,64,64)\" font-size=\"10\" x=\"133\" y=\"75.5\">1</text><text fill=\"rgb(255,0,0)\" font-size=\"10\" x=\"132.5\" y=\"75.5\">X</text><text fill=\"rgb(64,64,64)\" font-size=\"10\" x=\"142\" y=\"75.5\">2</text><text fill=\"rgb(64,64,64)\" font-size=\"10\" x=\"151\" y=\"75.5\">3</text><text fill=\"rgb(255,0,0)\" font-size=\"10\" x=\"150.5\" y=\"75.5\">X</text><text fill=\"rgb(64,64,64)\" font-size=\"10\" x=\"133\" y=\"84.5\">4</text><text fill=\"rgb(255,0,0)\" font-size=\"10\" x=\"132.5\" y=\"84.5\">X</text><text fill=\"rgb(64,64,64)\" font-size=\"10\" x=\"142\" y=\"84.5\">5</text><text fill=\"rgb(255,0,0)\" font-size=\"10\" x=\"141.5\" y=\"84.5\">X</text><text fill=\"rgb(64,64,64)\" font-size=\"10\" x=\"151\" y=\"84.5\">6</text><text fill=\"rgb(255,0,0)\" font-size=\"10\" x=\"150.5\" y=\"84.5\">X</text><text fill=\"rgb(64,64,64)\" font-size=\"10\" x=\"133\" y=\"93.5\">7</text><text fill=\"rgb(64,64,64)\" font-size=\"10\" x=\"142\" y=\"93.5\">8</text><text fill=\"rgb(255,0,0)\" font-size=\"10\" x=\"141.5\" y=\"93.5\">X</text><text fill=\"rgb(64,64,64)\" font-size=\"10\" x=\"151\" y=\"93.5\">9</text><text fill=\"rgb(0,0,0)\" font-size=\"30\" x=\"137\" y=\"124\">5</text><text fill=\"rgb(0,0,0)\" font-size=\"30\" x=\"137\" y=\"156\">5</text><text fill=\"rgb(0,0,0)\" font-size=\"30\" x=\"137\" y=\"188\">5</text><text fill=\"rgb(64,64,64)\" font-size=\"10\" x=\"133\" y=\"203.5\">1</text><text fill=\"rgb(255,0,0)\" font-size=\"10\" x=\"132.5\" y=\"203.5\">X</text><text fill=\"rgb(64,64,64)\" font-size=\"10\" x=\"142\" y=\"203.5\">2</text><text fill=\"rgb(64,64,64)\" font-size=\"10\" x=\"151\" y=\"203.5\">3</text><text fill=\"rgb(64,64,64)\" font-size=\"10\" x=\"133\" y=\"212.5\">4</text><text fill=\"rgb(255,0,0)\" font-size=\"10\" x=\"132.5\" y=\"212.5\">X</text><text fill=\"rgb(64,64,64)\" font-size=\"10\" x=\"142\" y=\"212.5\">5</text><text fill=\"rgb(64,64,64)\" font-size=\"10\" x=\"151\" y=\"212.5\">6</text><text fill=\"rgb(255,0,0)\" font-size=\"10\" x=\"150.5\" y=\"212.5\">X</text><text fill=\"rgb(64,64,64)\" font-size=\"10\" x=\"133\" y=\"221.5\">7</text><text fill=\"rgb(255,0,0)\" font-size=\"10\" x=\"132.5\" y=\"221.5\">X</text><text fill=\"rgb(64,64,64)\" font-size=\"10\" x=\"142\" y=\"221.5\">8</text><text fill=\"rgb(64,64,64)\" font-size=\"10\" x=\"151\" y=\"221.5\">9</text><text fill=\"rgb(64,64,64)\" font-size=\"10\" x=\"133\" y=\"235.5\">1</text><text fill=\"rgb(64,64,64)\" font-size=\"10\" x=\"142\" y=\"235.5\">2</text><text fill=\"rgb(255,0,0)\" font-size=\"10\" x=\"141.5\" y=\"235.5\">X</text><text fill=\"rgb(64,64,64)\" font-size=\"10\" x=\"151\" y=\"235.5\">3</text><text fill=\"rgb(255,0,0)\" font-size=\"10\" x=\"150.5\" y=\"235.5\">X</text><text fill=\"rgb(64,64,64)\" font-size=\"10\" x=\"133\" y=\"244.5\">4</text><text fill=\"rgb(255,0,0)\" font-size=\"10\" x=\"132.5\" y=\"244.5\">X</text><text fill=\"rgb(64,64,64)\" font-size=\"10\" x=\"142\" y=\"244.5\">5</text><text fill=\"rgb(64,64,64)\" font-size=\"10\" x=\"151\" y=\"244.5\">6</text><text fill=\"rgb(255,0,0)\" font-size=\"10\" x=\"150.5\" y=\"244.5\">X</text><text fill=\"rgb(64,64,64)\" font-size=\"10\" x=\"133\" y=\"253.5\">7</text><text fill=\"rgb(255,0,0)\" font-size=\"10\" x=\"132.5\" y=\"253.5\">X</text><text fill=\"rgb(64,64,64)\" font-size=\"10\" x=\"142\" y=\"253.5\">8</text><text fill=\"rgb(255,0,0)\" font-size=\"10\" x=\"141.5\" y=\"253.5\">X</text><text fill=\"rgb(64,64,64)\" font-size=\"10\" x=\"151\" y=\"253.5\">9</text><text fill=\"rgb(255,0,0)\" font-size=\"10\" x=\"150.5\" y=\"253.5\">X</text><text fill=\"rgb(64,64,64)\" font-size=\"10\" x=\"133\" y=\"267.5\">1</text><text fill=\"rgb(64,64,64)\" font-size=\"10\" x=\"142\" y=\"267.5\">2</text><text fill=\"rgb(255,0,0)\" font-size=\"10\" x=\"141.5\" y=\"267.5\">X</text><text fill=\"rgb(64,64,64)\" font-size=\"10\" x=\"151\" y=\"267.5\">3</text><text fill=\"rgb(255,0,0)\" font-size=\"10\" x=\"150.5\" y=\"267.5\">X</text><text fill=\"rgb(64,64,64)\" font-size=\"10\" x=\"133\" y=\"276.5\">4</text><text fill=\"rgb(255,0,0)\" font-size=\"10\" x=\"132.5\" y=\"276.5\">X</text><text fill=\"rgb(64,64,64)\" font-size=\"10\" x=\"142\" y=\"276.5\">5</text><text fill=\"rgb(255,0,0)\" font-size=\"10\" x=\"141.5\" y=\"276.5\">X</text><text fill=\"rgb(64,64,64)\" font-size=\"10\" x=\"151\" y=\"276.5\">6</text><text fill=\"rgb(255,0,0)\" font-size=\"10\" x=\"150.5\" y=\"276.5\">X</text><text fill=\"rgb(64,64,64)\" font-size=\"10\" x=\"133\" y=\"285.5\">7</text><text fill=\"rgb(255,0,0)\" font-size=\"10\" x=\"132.5\" y=\"285.5\">X</text><text fill=\"rgb(64,64,64)\" font-size=\"10\" x=\"142\" y=\"285.5\">8</text><text fill=\"rgb(64,64,64)\" font-size=\"10\" x=\"151\" y=\"285.5\">9</text><text fill=\"rgb(255,0,0)\" font-size=\"10\" x=\"150.5\" y=\"285.5\">X</text><text fill=\"rgb(64,64,64)\" font-size=\"10\" x=\"165\" y=\"11.5\">1</text><text fill=\"rgb(64,64,64)\" font-size=\"10\" x=\"174\" y=\"11.5\">2</text><text fill=\"rgb(255,0,0)\" font-size=\"10\" x=\"173.5\" y=\"11.5\">X</text><text fill=\"rgb(64,64,64)\" font-size=\"10\" x=\"183\" y=\"11.5\">3</text><text fill=\"rgb(255,0,0)\" font-size=\"10\" x=\"182.5\" y=\"11.5\">X</text><text fill=\"rgb(64,64,64)\" font-size=\"10\" x=\"165\" y=\"20.5\">4</text><text fill=\"rgb(255,0,0)\" font-size=\"10\" x=\"164.5\" y=\"20.5\">X</text><text fill=\"rgb(64,64,64)\" font-size=\"10\" x=\"174\" y=\"20.5\">5</text><text fill=\"rgb(64,64,64)\" font-size=\"10\" x=\"183\" y=\"20.5\">6</text><text fill=\"rgb(255,0,0)\" font-size=\"10\" x=\"182.5\" y=\"20.5\">X</text><text fill=\"rgb(64,64,64)\" font-size=\"10\" x=\"165\" y=\"29.5\">7</text><text fill=\"rgb(255,0,0)\" font-size=\"10\" x=\"164.5\" y=\"29.5\">X</text><text fill=\"rgb(64,64,64)\" font-size=\"10\" x=\"174\" y=\"29.5\">8</text><text fill=\"rgb(255,0,0)\" font-size=\"10\" x=\"173.5\" y=\"29.5\">X</text><text fill=\"rgb(64,64,64)\" font-size=\"10\" x=\"183\" y=\"29.5\">9</text><text fill=\"rgb(255,0,0)\" font-size=\"10\" x=\"182.5\" y=\"29.5\">X</text><text fill=\"rgb(64,64,64)\" font-size=\"10\" x=\"165\" y=\"43.5\">1</text><text fill=\"rgb(255,0,0)\" font-size=\"10\" x=\"164.5\" y=\"43.5\">X</text><text fill=\"rgb(64,64,64)\" font-size=\"10\" x=\"174\" y=\"43.5\">2</text><text fill=\"rgb(64,64,64)\" font-size=\"10\" x=\"183\" y=\"43.5\">3</text><text fill=\"rgb(64,64,64)\" font-size=\"10\" x=\"165\" y=\"52.5\">4</text><text fill=\"rgb(255,0,0)\" font-size=\"10\" x=\"164.5\" y=\"52.5\">X</text><text fill=\"rgb(64,64,64)\" font-size=\"10\" x=\"174\" y=\"52.5\">5</text><text fill=\"rgb(255,0,0)\" font-size=\"10\" x=\"173.5\" y=\"52.5\">X</text><text fill=\"rgb(64,64,64)\" font-size=\"10\" x=\"183\" y=\"52.5\">6</text><text fill=\"rgb(255,0,0)\" font-size=\"10\" x=\"182.5\" y=\"52.5\">X</text><text fill=\"rgb(64,64,64)\" font-size=\"10\" x=\"165\" y=\"61.5\">7</text><text fill=\"rgb(255,0,0)\" font-size=\"10\" x=\"164.5\" y=\"61.5\">X</text><text fill=\"rgb(64,64,64)\" font-size=\"10\" x=\"174\" y=\"61.5\">8</text><text fill=\"rgb(64,64,64)\" font-size=\"10\" x=\"183\" y=\"61.5\">9</text><text fill=\"rgb(255,0,0)\" font-size=\"10\" x=\"182.5\" y=\"61.5\">X</text><text fill=\"rgb(64,64,64)\" font-size=\"10\" x=\"165\" y=\"75.5\">1</text><text fill=\"rgb(255,0,0)\" font-size=\"10\" x=\"164.5\" y=\"75.5\">X</text><text fill=\"rgb(64,64,64)\" font-size=\"10\" x=\"174\" y=\"75.5\">2</text><text fill=\"rgb(255,0,0)\" font-size=\"10\" x=\"173.5\" y=\"75.5\">X</text><text fill=\"rgb(64,64,64)\" font-size=\"10\" x=\"183\" y=\"75.5\">3</text><text fill=\"rgb(255,0,0)\" font-size=\"10\" x=\"182.5\" y=\"75.5\">X</text><text fill=\"rgb(64,64,64)\" font-size=\"10\" x=\"165\" y=\"84.5\">4</text><text fill=\"rgb(64,64,64)\" font-size=\"10\" x=\"174\" y=\"84.5\">5</text><text fill=\"rgb(255,0,0)\" font-size=\"10\" x=\"173.5\" y=\"84.5\">X</text><text fill=\"rgb(64,64,64)\" font-size=\"10\" x=\"183\" y=\"84.5\">6</text><text fill=\"rgb(255,0,0)\" font-size=\"10\" x=\"182.5\" y=\"84.5\">X</text><text fill=\"rgb(64,64,64)\" font-size=\"10\" x=\"165\" y=\"93.5\">7</text><text fill=\"rgb(255,0,0)\" font-size=\"10\" x=\"164.5\" y=\"93.5\">X</text><text fill=\"rgb(64,64,64)\" font-size=\"10\" x=\"174\" y=\"93.5\">8</text><text fill=\"rgb(255,0,0)\" font-size=\"10\" x=\"173.5\" y=\"93.5\">X</text><text fill=\"rgb(64,64,64)\" font-size=\"10\" x=\"183\" y=\"93.5\">9</text><text fill=\"rgb(0,0,0)\" font-size=\"30\" x=\"169\" y=\"124\">6</text><text fill=\"rgb(0,0,0)\" font-size=\"30\" x=\"169\" y=\"156\">6</text><text fill=\"rgb(0,0,0)\" font-size=\"30\" x=\"169\" y=\"188\">6</text><text fill=\"rgb(0,0,0)\" font-size=\"30\" x=\"169\" y=\"220\">6</text><text fill=\"rgb(64,64,64)\" font-size=\"10\" x=\"165\" y=\"235.5\">1</text><text fill=\"rgb(64,64,64)\" font-size=\"10\" x=\"174\" y=\"235.5\">2</text><text fill=\"rgb(255,0,0)\" font-size=\"10\" x=\"173.5\" y=\"235.5\">X</text><text fill=\"rgb(64,64,64)\" font-size=\"10\" x=\"183\" y=\"235.5\">3</text><text fill=\"rgb(255,0,0)\" font-size=\"10\" x=\"182.5\" y=\"235.5\">X</text><text fill=\"rgb(64,64,64)\" font-size=\"10\" x=\"165\" y=\"244.5\">4</text><text fill=\"rgb(255,0,0)\" font-size=\"10\" x=\"164.5\" y=\"244.5\">X</text><text fill=\"rgb(64,64,64)\" font-size=\"10\" x=\"174\" y=\"244.5\">5</text><text fill=\"rgb(64,64,64)\" font-size=\"10\" x=\"183\" y=\"244.5\">6</text><text fill=\"rgb(255,0,0)\" font-size=\"10\" x=\"182.5\" y=\"244.5\">X</text><text fill=\"rgb(64,64,64)\" font-size=\"10\" x=\"165\" y=\"253.5\">7</text><text fill=\"rgb(255,0,0)\" font-size=\"10\" x=\"164.5\" y=\"253.5\">X</text><text fill=\"rgb(64,64,64)\" font-size=\"10\" x=\"174\" y=\"253.5\">8</text><text fill=\"rgb(64,64,64)\" font-size=\"10\" x=\"183\" y=\"253.5\">9</text><text fill=\"rgb(255,0,0)\" font-size=\"10\" x=\"182.5\" y=\"253.5\">X</text><text fill=\"rgb(64,64,64)\" font-size=\"10\" x=\"165\" y=\"267.5\">1</text><text fill=\"rgb(64,64,64)\" font-size=\"10\" x=\"174\" y=\"267.5\">2</text><text fill=\"rgb(255,0,0)\" font-size=\"10\" x=\"173.5\" y=\"267.5\">X</text><text fill=\"rgb(64,64,64)\" font-size=\"10\" x=\"183\" y=\"267.5\">3</text><text fill=\"rgb(255,0,0)\" font-size=\"10\" x=\"182.5\" y=\"267.5\">X</text><text fill=\"rgb(64,64,64)\" font-size=\"10\" x=\"165\" y=\"276.5\">4</text><text fill=\"rgb(255,0,0)\" font-size=\"10\" x=\"164.5\" y=\"276.5\">X</text><text fill=\"rgb(64,64,64)\" font-size=\"10\" x=\"174\" y=\"276.5\">5</text><text fill=\"rgb(255,0,0)\" font-size=\"10\" x=\"173.5\" y=\"276.5\">X</text><text fill=\"rgb(64,64,64)\" font-size=\"10\" x=\"183\" y=\"276.5\">6</text><text fill=\"rgb(64,64,64)\" font-size=\"10\" x=\"165\" y=\"285.5\">7</text><text fill=\"rgb(255,0,0)\" font-size=\"10\" x=\"164.5\" y=\"285.5\">X</text><text fill=\"rgb(64,64,64)\" font-size=\"10\" x=\"174\" y=\"285.5\">8</text><text fill=\"rgb(64,64,64)\" font-size=\"10\" x=\"183\" y=\"285.5\">9</text><text fill=\"rgb(255,0,0)\" font-size=\"10\" x=\"182.5\" y=\"285.5\">X</text><text fill=\"rgb(0,0,0)\" font-size=\"30\" x=\"201\" y=\"28\">5</text><text fill=\"rgb(64,64,64)\" font-size=\"10\" x=\"197\" y=\"43.5\">1</text><text fill=\"rgb(64,64,64)\" font-size=\"10\" x=\"206\" y=\"43.5\">2</text><text fill=\"rgb(255,0,0)\" font-size=\"10\" x=\"205.5\" y=\"43.5\">X</text><text fill=\"rgb(64,64,64)\" font-size=\"10\" x=\"215\" y=\"43.5\">3</text><text fill=\"rgb(255,0,0)\" font-size=\"10\" x=\"214.5\" y=\"43.5\">X</text><text fill=\"rgb(64,64,64)\" font-size=\"10\" x=\"197\" y=\"52.5\">4</text><text fill=\"rgb(64,64,64)\" font-size=\"10\" x=\"206\" y=\"52.5\">5</text><text fill=\"rgb(255,0,0)\" font-size=\"10\" x=\"205.5\" y=\"52.5\">X</text><text fill=\"rgb(64,64,64)\" font-size=\"10\" x=\"215\" y=\"52.5\">6</text><text fill=\"rgb(64,64,64)\" font-size=\"10\" x=\"197\" y=\"61.5\">7</text><text fill=\"rgb(255,0,0)\" font-size=\"10\" x=\"196.5\" y=\"61.5\">X</text><text fill=\"rgb(64,64,64)\" font-size=\"10\" x=\"206\" y=\"61.5\">8</text><text fill=\"rgb(255,0,0)\" font-size=\"10\" x=\"205.5\" y=\"61.5\">X</text><text fill=\"rgb(64,64,64)\" font-size=\"10\" x=\"215\" y=\"61.5\">9</text><text fill=\"rgb(64,64,64)\" font-size=\"10\" x=\"197\" y=\"75.5\">1</text><text fill=\"rgb(255,0,0)\" font-size=\"10\" x=\"196.5\" y=\"75.5\">X</text><text fill=\"rgb(64,64,64)\" font-size=\"10\" x=\"206\" y=\"75.5\">2</text><text fill=\"rgb(64,64,64)\" font-size=\"10\" x=\"215\" y=\"75.5\">3</text><text fill=\"rgb(255,0,0)\" font-size=\"10\" x=\"214.5\" y=\"75.5\">X</text><text fill=\"rgb(64,64,64)\" font-size=\"10\" x=\"197\" y=\"84.5\">4</text><text fill=\"rgb(64,64,64)\" font-size=\"10\" x=\"206\" y=\"84.5\">5</text><text fill=\"rgb(255,0,0)\" font-size=\"10\" x=\"205.5\" y=\"84.5\">X</text><text fill=\"rgb(64,64,64)\" font-size=\"10\" x=\"215\" y=\"84.5\">6</text><text fill=\"rgb(64,64,64)\" font-size=\"10\" x=\"197\" y=\"93.5\">7</text><text fill=\"rgb(64,64,64)\" font-size=\"10\" x=\"206\" y=\"93.5\">8</text><text fill=\"rgb(255,0,0)\" font-size=\"10\" x=\"205.5\" y=\"93.5\">X</text><text fill=\"rgb(64,64,64)\" font-size=\"10\" x=\"215\" y=\"93.5\">9</text><text fill=\"rgb(255,0,0)\" font-size=\"10\" x=\"214.5\" y=\"93.5\">X</text><text fill=\"rgb(64,64,64)\" font-size=\"10\" x=\"197\" y=\"107.5\">1</text><text fill=\"rgb(64,64,64)\" font-size=\"10\" x=\"206\" y=\"107.5\">2</text><text fill=\"rgb(255,0,0)\" font-size=\"10\" x=\"205.5\" y=\"107.5\">X</text><text fill=\"rgb(64,64,64)\" font-size=\"10\" x=\"215\" y=\"107.5\">3</text><text fill=\"rgb(64,64,64)\" font-size=\"10\" x=\"197\" y=\"116.5\">4</text><text fill=\"rgb(64,64,64)\" font-size=\"10\" x=\"206\" y=\"116.5\">5</text><text fill=\"rgb(255,0,0)\" font-size=\"10\" x=\"205.5\" y=\"116.5\">X</text><text fill=\"rgb(64,64,64)\" font-size=\"10\" x=\"215\" y=\"116.5\">6</text><text fill=\"rgb(64,64,64)\" font-size=\"10\" x=\"197\" y=\"125.5\">7</text><text fill=\"rgb(64,64,64)\" font-size=\"10\" x=\"206\" y=\"125.5\">8</text><text fill=\"rgb(255,0,0)\" font-size=\"10\" x=\"205.5\" y=\"125.5\">X</text><text fill=\"rgb(64,64,64)\" font-size=\"10\" x=\"215\" y=\"125.5\">9</text><text fill=\"rgb(255,0,0)\" font-size=\"10\" x=\"214.5\" y=\"125.5\">X</text><text fill=\"rgb(64,64,64)\" font-size=\"10\" x=\"197\" y=\"139.5\">1</text><text fill=\"rgb(64,64,64)\" font-size=\"10\" x=\"206\" y=\"139.5\">2</text><text fill=\"rgb(64,64,64)\" font-size=\"10\" x=\"215\" y=\"139.5\">3</text><text fill=\"rgb(255,0,0)\" font-size=\"10\" x=\"214.5\" y=\"139.5\">X</text><text fill=\"rgb(64,64,64)\" font-size=\"10\" x=\"197\" y=\"148.5\">4</text><text fill=\"rgb(255,0,0)\" font-size=\"10\" x=\"196.5\" y=\"148.5\">X</text><text fill=\"rgb(64,64,64)\" font-size=\"10\" x=\"206\" y=\"148.5\">5</text><text fill=\"rgb(255,0,0)\" font-size=\"10\" x=\"205.5\" y=\"148.5\">X</text><text fill=\"rgb(64,64,64)\" font-size=\"10\" x=\"215\" y=\"148.5\">6</text><text fill=\"rgb(255,0,0)\" font-size=\"10\" x=\"214.5\" y=\"148.5\">X</text><text fill=\"rgb(64,64,64)\" font-size=\"10\" x=\"197\" y=\"157.5\">7</text><text fill=\"rgb(255,0,0)\" font-size=\"10\" x=\"196.5\" y=\"157.5\">X</text><text fill=\"rgb(64,64,64)\" font-size=\"10\" x=\"206\" y=\"157.5\">8</text><text fill=\"rgb(255,0,0)\" font-size=\"10\" x=\"205.5\" y=\"157.5\">X</text><text fill=\"rgb(64,64,64)\" font-size=\"10\" x=\"215\" y=\"157.5\">9</text><text fill=\"rgb(0,0,0)\" font-size=\"30\" x=\"201\" y=\"188\">7</text><text fill=\"rgb(0,0,0)\" font-size=\"30\" x=\"201\" y=\"220\">7</text><text fill=\"rgb(0,0,0)\" font-size=\"30\" x=\"201\" y=\"252\">7</text><text fill=\"rgb(64,64,64)\" font-size=\"10\" x=\"197\" y=\"267.5\">1</text><text fill=\"rgb(64,64,64)\" font-size=\"10\" x=\"206\" y=\"267.5\">2</text><text fill=\"rgb(64,64,64)\" font-size=\"10\" x=\"215\" y=\"267.5\">3</text><text fill=\"rgb(255,0,0)\" font-size=\"10\" x=\"214.5\" y=\"267.5\">X</text><text fill=\"rgb(64,64,64)\" font-size=\"10\" x=\"197\" y=\"276.5\">4</text><text fill=\"rgb(255,0,0)\" font-size=\"10\" x=\"196.5\" y=\"276.5\">X</text><text fill=\"rgb(64,64,64)\" font-size=\"10\" x=\"206\" y=\"276.5\">5</text><text fill=\"rgb(255,0,0)\" font-size=\"10\" x=\"205.5\" y=\"276.5\">X</text><text fill=\"rgb(64,64,64)\" font-size=\"10\" x=\"215\" y=\"276.5\">6</text><text fill=\"rgb(255,0,0)\" font-size=\"10\" x=\"214.5\" y=\"276.5\">X</text><text fill=\"rgb(64,64,64)\" font-size=\"10\" x=\"197\" y=\"285.5\">7</text><text fill=\"rgb(64,64,64)\" font-size=\"10\" x=\"206\" y=\"285.5\">8</text><text fill=\"rgb(255,0,0)\" font-size=\"10\" x=\"205.5\" y=\"285.5\">X</text><text fill=\"rgb(64,64,64)\" font-size=\"10\" x=\"215\" y=\"285.5\">9</text><text fill=\"rgb(255,0,0)\" font-size=\"10\" x=\"214.5\" y=\"285.5\">X</text><text fill=\"rgb(64,64,64)\" font-size=\"10\" x=\"229\" y=\"11.5\">1</text><text fill=\"rgb(64,64,64)\" font-size=\"10\" x=\"238\" y=\"11.5\">2</text><text fill=\"rgb(64,64,64)\" font-size=\"10\" x=\"247\" y=\"11.5\">3</text><text fill=\"rgb(255,0,0)\" font-size=\"10\" x=\"246.5\" y=\"11.5\">X</text><text fill=\"rgb(64,64,64)\" font-size=\"10\" x=\"229\" y=\"20.5\">4</text><text fill=\"rgb(255,0,0)\" font-size=\"10\" x=\"228.5\" y=\"20.5\">X</text><text fill=\"rgb(64,64,64)\" font-size=\"10\" x=\"238\" y=\"20.5\">5</text><text fill=\"rgb(255,0,0)\" font-size=\"10\" x=\"237.5\" y=\"20.5\">X</text><text fill=\"rgb(64,64,64)\" font-size=\"10\" x=\"247\" y=\"20.5\">6</text><text fill=\"rgb(64,64,64)\" font-size=\"10\" x=\"229\" y=\"29.5\">7</text><text fill=\"rgb(64,64,64)\" font-size=\"10\" x=\"238\" y=\"29.5\">8</text><text fill=\"rgb(255,0,0)\" font-size=\"10\" x=\"237.5\" y=\"29.5\">X</text><text fill=\"rgb(64,64,64)\" font-size=\"10\" x=\"247\" y=\"29.5\">9</text><text fill=\"rgb(64,64,64)\" font-size=\"10\" x=\"229\" y=\"43.5\">1</text><text fill=\"rgb(64,64,64)\" font-size=\"10\" x=\"238\" y=\"43.5\">2</text><text fill=\"rgb(255,0,0)\" font-size=\"10\" x=\"237.5\" y=\"43.5\">X</text><text fill=\"rgb(64,64,64)\" font-size=\"10\" x=\"247\" y=\"43.5\">3</text><text fill=\"rgb(64,64,64)\" font-size=\"10\" x=\"229\" y=\"52.5\">4</text><text fill=\"rgb(255,0,0)\" font-size=\"10\" x=\"228.5\" y=\"52.5\">X</text><text fill=\"rgb(64,64,64)\" font-size=\"10\" x=\"238\" y=\"52.5\">5</text><text fill=\"rgb(255,0,0)\" font-size=\"10\" x=\"237.5\" y=\"52.5\">X</text><text fill=\"rgb(64,64,64)\" font-size=\"10\" x=\"247\" y=\"52.5\">6</text><text fill=\"rgb(64,64,64)\" font-size=\"10\" x=\"229\" y=\"61.5\">7</text><text fill=\"rgb(255,0,0)\" font-size=\"10\" x=\"228.5\" y=\"61.5\">X</text><text fill=\"rgb(64,64,64)\" font-size=\"10\" x=\"238\" y=\"61.5\">8</text><text fill=\"rgb(64,64,64)\" font-size=\"10\" x=\"247\" y=\"61.5\">9</text><text fill=\"rgb(64,64,64)\" font-size=\"10\" x=\"229\" y=\"75.5\">1</text><text fill=\"rgb(255,0,0)\" font-size=\"10\" x=\"228.5\" y=\"75.5\">X</text><text fill=\"rgb(64,64,64)\" font-size=\"10\" x=\"238\" y=\"75.5\">2</text><text fill=\"rgb(255,0,0)\" font-size=\"10\" x=\"237.5\" y=\"75.5\">X</text><text fill=\"rgb(64,64,64)\" font-size=\"10\" x=\"247\" y=\"75.5\">3</text><text fill=\"rgb(255,0,0)\" font-size=\"10\" x=\"246.5\" y=\"75.5\">X</text><text fill=\"rgb(64,64,64)\" font-size=\"10\" x=\"229\" y=\"84.5\">4</text><text fill=\"rgb(64,64,64)\" font-size=\"10\" x=\"238\" y=\"84.5\">5</text><text fill=\"rgb(255,0,0)\" font-size=\"10\" x=\"237.5\" y=\"84.5\">X</text><text fill=\"rgb(64,64,64)\" font-size=\"10\" x=\"247\" y=\"84.5\">6</text><text fill=\"rgb(255,0,0)\" font-size=\"10\" x=\"246.5\" y=\"84.5\">X</text><text fill=\"rgb(64,64,64)\" font-size=\"10\" x=\"229\" y=\"93.5\">7</text><text fill=\"rgb(64,64,64)\" font-size=\"10\" x=\"238\" y=\"93.5\">8</text><text fill=\"rgb(64,64,64)\" font-size=\"10\" x=\"247\" y=\"93.5\">9</text><text fill=\"rgb(64,64,64)\" font-size=\"10\" x=\"229\" y=\"107.5\">1</text><text fill=\"rgb(64,64,64)\" font-size=\"10\" x=\"238\" y=\"107.5\">2</text><text fill=\"rgb(64,64,64)\" font-size=\"10\" x=\"247\" y=\"107.5\">3</text><text fill=\"rgb(255,0,0)\" font-size=\"10\" x=\"246.5\" y=\"107.5\">X</text><text fill=\"rgb(64,64,64)\" font-size=\"10\" x=\"229\" y=\"116.5\">4</text><text fill=\"rgb(64,64,64)\" font-size=\"10\" x=\"238\" y=\"116.5\">5</text><text fill=\"rgb(255,0,0)\" font-size=\"10\" x=\"237.5\" y=\"116.5\">X</text><text fill=\"rgb(64,64,64)\" font-size=\"10\" x=\"247\" y=\"116.5\">6</text><text fill=\"rgb(255,0,0)\" font-size=\"10\" x=\"246.5\" y=\"116.5\">X</text><text fill=\"rgb(64,64,64)\" font-size=\"10\" x=\"229\" y=\"125.5\">7</text><text fill=\"rgb(255,0,0)\" font-size=\"10\" x=\"228.5\" y=\"125.5\">X</text><text fill=\"rgb(64,64,64)\" font-size=\"10\" x=\"238\" y=\"125.5\">8</text><text fill=\"rgb(255,0,0)\" font-size=\"10\" x=\"237.5\" y=\"125.5\">X</text><text fill=\"rgb(64,64,64)\" font-size=\"10\" x=\"247\" y=\"125.5\">9</text><text fill=\"rgb(255,0,0)\" font-size=\"10\" x=\"246.5\" y=\"125.5\">X</text><text fill=\"rgb(64,64,64)\" font-size=\"10\" x=\"229\" y=\"139.5\">1</text><text fill=\"rgb(255,0,0)\" font-size=\"10\" x=\"228.5\" y=\"139.5\">X</text><text fill=\"rgb(64,64,64)\" font-size=\"10\" x=\"238\" y=\"139.5\">2</text><text fill=\"rgb(255,0,0)\" font-size=\"10\" x=\"237.5\" y=\"139.5\">X</text><text fill=\"rgb(64,64,64)\" font-size=\"10\" x=\"247\" y=\"139.5\">3</text><text fill=\"rgb(255,0,0)\" font-size=\"10\" x=\"246.5\" y=\"139.5\">X</text><text fill=\"rgb(64,64,64)\" font-size=\"10\" x=\"229\" y=\"148.5\">4</text><text fill=\"rgb(255,0,0)\" font-size=\"10\" x=\"228.5\" y=\"148.5\">X</text><text fill=\"rgb(64,64,64)\" font-size=\"10\" x=\"238\" y=\"148.5\">5</text><text fill=\"rgb(64,64,64)\" font-size=\"10\" x=\"247\" y=\"148.5\">6</text><text fill=\"rgb(255,0,0)\" font-size=\"10\" x=\"246.5\" y=\"148.5\">X</text><text fill=\"rgb(64,64,64)\" font-size=\"10\" x=\"229\" y=\"157.5\">7</text><text fill=\"rgb(255,0,0)\" font-size=\"10\" x=\"228.5\" y=\"157.5\">X</text><text fill=\"rgb(64,64,64)\" font-size=\"10\" x=\"238\" y=\"157.5\">8</text><text fill=\"rgb(255,0,0)\" font-size=\"10\" x=\"237.5\" y=\"157.5\">X</text><text fill=\"rgb(64,64,64)\" font-size=\"10\" x=\"247\" y=\"157.5\">9</text><text fill=\"rgb(64,64,64)\" font-size=\"10\" x=\"229\" y=\"171.5\">1</text><text fill=\"rgb(255,0,0)\" font-size=\"10\" x=\"228.5\" y=\"171.5\">X</text><text fill=\"rgb(64,64,64)\" font-size=\"10\" x=\"238\" y=\"171.5\">2</text><text fill=\"rgb(255,0,0)\" font-size=\"10\" x=\"237.5\" y=\"171.5\">X</text><text fill=\"rgb(64,64,64)\" font-size=\"10\" x=\"247\" y=\"171.5\">3</text><text fill=\"rgb(64,64,64)\" font-size=\"10\" x=\"229\" y=\"180.5\">4</text><text fill=\"rgb(255,0,0)\" font-size=\"10\" x=\"228.5\" y=\"180.5\">X</text><text fill=\"rgb(64,64,64)\" font-size=\"10\" x=\"238\" y=\"180.5\">5</text><text fill=\"rgb(255,0,0)\" font-size=\"10\" x=\"237.5\" y=\"180.5\">X</text><text fill=\"rgb(64,64,64)\" font-size=\"10\" x=\"247\" y=\"180.5\">6</text><text fill=\"rgb(64,64,64)\" font-size=\"10\" x=\"229\" y=\"189.5\">7</text><text fill=\"rgb(64,64,64)\" font-size=\"10\" x=\"238\" y=\"189.5\">8</text><text fill=\"rgb(255,0,0)\" font-size=\"10\" x=\"237.5\" y=\"189.5\">X</text><text fill=\"rgb(64,64,64)\" font-size=\"10\" x=\"247\" y=\"189.5\">9</text><text fill=\"rgb(0,0,0)\" font-size=\"30\" x=\"233\" y=\"220\">8</text><text fill=\"rgb(0,0,0)\" font-size=\"30\" x=\"233\" y=\"252\">8</text><text fill=\"rgb(0,0,0)\" font-size=\"30\" x=\"233\" y=\"284\">8</text><text fill=\"rgb(64,64,64)\" font-size=\"10\" x=\"261\" y=\"11.5\">1</text><text fill=\"rgb(255,0,0)\" font-size=\"10\" x=\"260.5\" y=\"11.5\">X</text><text fill=\"rgb(64,64,64)\" font-size=\"10\" x=\"270\" y=\"11.5\">2</text><text fill=\"rgb(64,64,64)\" font-size=\"10\" x=\"279\" y=\"11.5\">3</text><text fill=\"rgb(255,0,0)\" font-size=\"10\" x=\"278.5\" y=\"11.5\">X</text><text fill=\"rgb(64,64,64)\" font-size=\"10\" x=\"261\" y=\"20.5\">4</text><text fill=\"rgb(255,0,0)\" font-size=\"10\" x=\"260.5\" y=\"20.5\">X</text><text fill=\"rgb(64,64,64)\" font-size=\"10\" x=\"270\" y=\"20.5\">5</text><text fill=\"rgb(255,0,0)\" font-size=\"10\" x=\"269.5\" y=\"20.5\">X</text><text fill=\"rgb(64,64,64)\" font-size=\"10\" x=\"279\" y=\"20.5\">6</text><text fill=\"rgb(255,0,0)\" font-size=\"10\" x=\"278.5\" y=\"20.5\">X</text><text fill=\"rgb(64,64,64)\" font-size=\"10\" x=\"261\" y=\"29.5\">7</text><text fill=\"rgb(64,64,64)\" font-size=\"10\" x=\"270\" y=\"29.5\">8</text><text fill=\"rgb(64,64,64)\" font-size=\"10\" x=\"279\" y=\"29.5\">9</text><text fill=\"rgb(255,0,0)\" font-size=\"10\" x=\"278.5\" y=\"29.5\">X</text><text fill=\"rgb(64,64,64)\" font-size=\"10\" x=\"261\" y=\"43.5\">1</text><text fill=\"rgb(64,64,64)\" font-size=\"10\" x=\"270\" y=\"43.5\">2</text><text fill=\"rgb(255,0,0)\" font-size=\"10\" x=\"269.5\" y=\"43.5\">X</text><text fill=\"rgb(64,64,64)\" font-size=\"10\" x=\"279\" y=\"43.5\">3</text><text fill=\"rgb(64,64,64)\" font-size=\"10\" x=\"261\" y=\"52.5\">4</text><text fill=\"rgb(255,0,0)\" font-size=\"10\" x=\"260.5\" y=\"52.5\">X</text><text fill=\"rgb(64,64,64)\" font-size=\"10\" x=\"270\" y=\"52.5\">5</text><text fill=\"rgb(64,64,64)\" font-size=\"10\" x=\"279\" y=\"52.5\">6</text><text fill=\"rgb(255,0,0)\" font-size=\"10\" x=\"278.5\" y=\"52.5\">X</text><text fill=\"rgb(64,64,64)\" font-size=\"10\" x=\"261\" y=\"61.5\">7</text><text fill=\"rgb(255,0,0)\" font-size=\"10\" x=\"260.5\" y=\"61.5\">X</text><text fill=\"rgb(64,64,64)\" font-size=\"10\" x=\"270\" y=\"61.5\">8</text><text fill=\"rgb(64,64,64)\" font-size=\"10\" x=\"279\" y=\"61.5\">9</text><text fill=\"rgb(255,0,0)\" font-size=\"10\" x=\"278.5\" y=\"61.5\">X</text><text fill=\"rgb(64,64,64)\" font-size=\"10\" x=\"261\" y=\"75.5\">1</text><text fill=\"rgb(255,0,0)\" font-size=\"10\" x=\"260.5\" y=\"75.5\">X</text><text fill=\"rgb(64,64,64)\" font-size=\"10\" x=\"270\" y=\"75.5\">2</text><text fill=\"rgb(64,64,64)\" font-size=\"10\" x=\"279\" y=\"75.5\">3</text><text fill=\"rgb(255,0,0)\" font-size=\"10\" x=\"278.5\" y=\"75.5\">X</text><text fill=\"rgb(64,64,64)\" font-size=\"10\" x=\"261\" y=\"84.5\">4</text><text fill=\"rgb(64,64,64)\" font-size=\"10\" x=\"270\" y=\"84.5\">5</text><text fill=\"rgb(255,0,0)\" font-size=\"10\" x=\"269.5\" y=\"84.5\">X</text><text fill=\"rgb(64,64,64)\" font-size=\"10\" x=\"279\" y=\"84.5\">6</text><text fill=\"rgb(255,0,0)\" font-size=\"10\" x=\"278.5\" y=\"84.5\">X</text><text fill=\"rgb(64,64,64)\" font-size=\"10\" x=\"261\" y=\"93.5\">7</text><text fill=\"rgb(64,64,64)\" font-size=\"10\" x=\"270\" y=\"93.5\">8</text><text fill=\"rgb(64,64,64)\" font-size=\"10\" x=\"279\" y=\"93.5\">9</text><text fill=\"rgb(64,64,64)\" font-size=\"10\" x=\"261\" y=\"107.5\">1</text><text fill=\"rgb(255,0,0)\" font-size=\"10\" x=\"260.5\" y=\"107.5\">X</text><text fill=\"rgb(64,64,64)\" font-size=\"10\" x=\"270\" y=\"107.5\">2</text><text fill=\"rgb(64,64,64)\" font-size=\"10\" x=\"279\" y=\"107.5\">3</text><text fill=\"rgb(255,0,0)\" font-size=\"10\" x=\"278.5\" y=\"107.5\">X</text><text fill=\"rgb(64,64,64)\" font-size=\"10\" x=\"261\" y=\"116.5\">4</text><text fill=\"rgb(64,64,64)\" font-size=\"10\" x=\"270\" y=\"116.5\">5</text><text fill=\"rgb(64,64,64)\" font-size=\"10\" x=\"279\" y=\"116.5\">6</text><text fill=\"rgb(64,64,64)\" font-size=\"10\" x=\"261\" y=\"125.5\">7</text><text fill=\"rgb(255,0,0)\" font-size=\"10\" x=\"260.5\" y=\"125.5\">X</text><text fill=\"rgb(64,64,64)\" font-size=\"10\" x=\"270\" y=\"125.5\">8</text><text fill=\"rgb(64,64,64)\" font-size=\"10\" x=\"279\" y=\"125.5\">9</text><text fill=\"rgb(255,0,0)\" font-size=\"10\" x=\"278.5\" y=\"125.5\">X</text><text fill=\"rgb(64,64,64)\" font-size=\"10\" x=\"261\" y=\"139.5\">1</text><text fill=\"rgb(255,0,0)\" font-size=\"10\" x=\"260.5\" y=\"139.5\">X</text><text fill=\"rgb(64,64,64)\" font-size=\"10\" x=\"270\" y=\"139.5\">2</text><text fill=\"rgb(255,0,0)\" font-size=\"10\" x=\"269.5\" y=\"139.5\">X</text><text fill=\"rgb(64,64,64)\" font-size=\"10\" x=\"279\" y=\"139.5\">3</text><text fill=\"rgb(255,0,0)\" font-size=\"10\" x=\"278.5\" y=\"139.5\">X</text><text fill=\"rgb(64,64,64)\" font-size=\"10\" x=\"261\" y=\"148.5\">4</text><text fill=\"rgb(64,64,64)\" font-size=\"10\" x=\"270\" y=\"148.5\">5</text><text fill=\"rgb(255,0,0)\" font-size=\"10\" x=\"269.5\" y=\"148.5\">X</text><text fill=\"rgb(64,64,64)\" font-size=\"10\" x=\"279\" y=\"148.5\">6</text><text fill=\"rgb(255,0,0)\" font-size=\"10\" x=\"278.5\" y=\"148.5\">X</text><text fill=\"rgb(64,64,64)\" font-size=\"10\" x=\"261\" y=\"157.5\">7</text><text fill=\"rgb(64,64,64)\" font-size=\"10\" x=\"270\" y=\"157.5\">8</text><text fill=\"rgb(255,0,0)\" font-size=\"10\" x=\"269.5\" y=\"157.5\">X</text><text fill=\"rgb(64,64,64)\" font-size=\"10\" x=\"279\" y=\"157.5\">9</text><text fill=\"rgb(64,64,64)\" font-size=\"10\" x=\"261\" y=\"171.5\">1</text><text fill=\"rgb(255,0,0)\" font-size=\"10\" x=\"260.5\" y=\"171.5\">X</text><text fill=\"rgb(64,64,64)\" font-size=\"10\" x=\"270\" y=\"171.5\">2</text><text fill=\"rgb(64,64,64)\" font-size=\"10\" x=\"279\" y=\"171.5\">3</text><text fill=\"rgb(255,0,0)\" font-size=\"10\" x=\"278.5\" y=\"171.5\">X</text><text fill=\"rgb(64,64,64)\" font-size=\"10\" x=\"261\" y=\"180.5\">4</text><text fill=\"rgb(255,0,0)\" font-size=\"10\" x=\"260.5\" y=\"180.5\">X</text><text fill=\"rgb(64,64,64)\" font-size=\"10\" x=\"270\" y=\"180.5\">5</text><text fill=\"rgb(64,64,64)\" font-size=\"10\" x=\"279\" y=\"180.5\">6</text><text fill=\"rgb(255,0,0)\" font-size=\"10\" x=\"278.5\" y=\"180.5\">X</text><text fill=\"rgb(64,64,64)\" font-size=\"10\" x=\"261\" y=\"189.5\">7</text><text fill=\"rgb(255,0,0)\" font-size=\"10\" x=\"260.5\" y=\"189.5\">X</text><text fill=\"rgb(64,64,64)\" font-size=\"10\" x=\"270\" y=\"189.5\">8</text><text fill=\"rgb(64,64,64)\" font-size=\"10\" x=\"279\" y=\"189.5\">9</text><text fill=\"rgb(64,64,64)\" font-size=\"10\" x=\"261\" y=\"203.5\">1</text><text fill=\"rgb(64,64,64)\" font-size=\"10\" x=\"270\" y=\"203.5\">2</text><text fill=\"rgb(255,0,0)\" font-size=\"10\" x=\"269.5\" y=\"203.5\">X</text><text fill=\"rgb(64,64,64)\" font-size=\"10\" x=\"279\" y=\"203.5\">3</text><text fill=\"rgb(255,0,0)\" font-size=\"10\" x=\"278.5\" y=\"203.5\">X</text><text fill=\"rgb(64,64,64)\" font-size=\"10\" x=\"261\" y=\"212.5\">4</text><text fill=\"rgb(255,0,0)\" font-size=\"10\" x=\"260.5\" y=\"212.5\">X</text><text fill=\"rgb(64,64,64)\" font-size=\"10\" x=\"270\" y=\"212.5\">5</text><text fill=\"rgb(255,0,0)\" font-size=\"10\" x=\"269.5\" y=\"212.5\">X</text><text fill=\"rgb(64,64,64)\" font-size=\"10\" x=\"279\" y=\"212.5\">6</text><text fill=\"rgb(64,64,64)\" font-size=\"10\" x=\"261\" y=\"221.5\">7</text><text fill=\"rgb(64,64,64)\" font-size=\"10\" x=\"270\" y=\"221.5\">8</text><text fill=\"rgb(255,0,0)\" font-size=\"10\" x=\"269.5\" y=\"221.5\">X</text><text fill=\"rgb(64,64,64)\" font-size=\"10\" x=\"279\" y=\"221.5\">9</text><text fill=\"rgb(255,0,0)\" font-size=\"10\" x=\"278.5\" y=\"221.5\">X</text><text fill=\"rgb(0,0,0)\" font-size=\"30\" x=\"265\" y=\"252\">9</text><text fill=\"rgb(0,0,0)\" font-size=\"30\" x=\"265\" y=\"284\">9</text></svg>"
          },
          "metadata": {}
        },
        {
          "output_type": "stream",
          "name": "stdout",
          "text": [
            "\n"
          ]
        }
      ]
    },
    {
      "cell_type": "markdown",
      "metadata": {
        "id": "jrWu8Hs2urvM"
      },
      "source": [
        "## Ok, back to solving puzzles..."
      ]
    },
    {
      "cell_type": "markdown",
      "metadata": {
        "id": "4EGATdwkEwdQ"
      },
      "source": [
        "### --- Part 4 (a) --- The empty puzzle"
      ]
    },
    {
      "cell_type": "markdown",
      "metadata": {
        "id": "DSoILsb4EB3i"
      },
      "source": [
        "If we look for the inferences we can make, given a completely blank puzzle...  we probably can't infer very much!"
      ]
    },
    {
      "cell_type": "code",
      "metadata": {
        "id": "YH7aQ15-zxKA"
      },
      "source": [
        "do_exclusions_on_network(prepare_network(big_blank_sudoku_network()), [], visualizer = sudoku_callback);"
      ],
      "execution_count": null,
      "outputs": []
    },
    {
      "cell_type": "markdown",
      "metadata": {
        "id": "PhyXf0VtE8f2"
      },
      "source": [
        "Sure enough, no digits in the puzzle were narrowed down at all."
      ]
    },
    {
      "cell_type": "markdown",
      "metadata": {
        "id": "FyXO6eRhE1S9"
      },
      "source": [
        "### --- Part 4 (b) --- The puzzle from the Wikipedia Sudoku page"
      ]
    },
    {
      "cell_type": "code",
      "metadata": {
        "id": "4I8E-fvK1owu"
      },
      "source": [
        "def puzzle_1_rels():\n",
        "  _ = -1\n",
        "  puzzle = [\n",
        "      [   5,3,_,   _,7,_,   _,_,_   ],\n",
        "      [   6,_,_,   1,9,5,   _,_,_   ],\n",
        "      [   _,9,8,   _,_,_,   _,6,_   ],\n",
        "\n",
        "      [   8,_,_,   _,6,_,   _,_,3   ],\n",
        "      [   4,_,_,   8,_,3,   _,_,1   ],\n",
        "      [   7,_,_,   _,2,_,   _,_,6   ],\n",
        "\n",
        "      [   _,6,_,   _,_,_,   2,8,_   ],\n",
        "      [   _,_,_,   4,1,9,   _,_,5   ],\n",
        "      [   _,_,_,   _,8,_,   _,7,9   ],\n",
        "    ]\n",
        "  puzzle_rels = []\n",
        "  for row_index, row in enumerate(puzzle) :\n",
        "    for column_index, entry in enumerate(row) :\n",
        "      if entry is not -1 :\n",
        "        puzzle_rels.append(\n",
        "          IS_ONE(factoid_var_name(entry, \"is at\", column_index + 1,\n",
        "                                                     row_index + 1 )))\n",
        "  return puzzle_rels"
      ],
      "execution_count": null,
      "outputs": []
    },
    {
      "cell_type": "code",
      "metadata": {
        "id": "KCavhp-Q7Kfx"
      },
      "source": [
        "do_exclusions_on_network( prepare_network(big_blank_sudoku_network()),\n",
        "                          puzzle_1_rels(),\n",
        "                          visualizer = sudoku_callback\n",
        ");"
      ],
      "execution_count": null,
      "outputs": []
    },
    {
      "cell_type": "markdown",
      "metadata": {
        "id": "6QQZOpLZCmEj"
      },
      "source": [
        "Hooray, it solves the puzzle!  (If your code is correct.)\n",
        "\n",
        "It's kind of funny that it starts displaying the big digit in a couple of the empty boxes before it finishes deducing that all of the _given_ information should be drawn in the boxes!  This is because it doesn't display the big digit until the network has propagated the fact that none of the other digits are there.  This happens twice as fast for a 5 (in the middle of our 1-of-9 network) as for a 1 or 9, so numbers around 5 tend to show up a little earlier while more extreme numbers tend to show up a little later."
      ]
    },
    {
      "cell_type": "markdown",
      "metadata": {
        "id": "mlHz6wvBamVv"
      },
      "source": [
        "### --- Part 4 (c) --- A \"hard\" puzzle from websudoku.com"
      ]
    },
    {
      "cell_type": "code",
      "metadata": {
        "id": "xY5jwg-iCvvX"
      },
      "source": [
        "def puzzle_2_rels():\n",
        "  _ = -1\n",
        "  puzzle = [\n",
        "      [   _,2,_,   _,_,_,   _,8,_   ],\n",
        "      [   _,_,1,   5,9,_,   _,_,7   ],\n",
        "      [   _,_,6,   _,3,_,   _,5,_   ],\n",
        "\n",
        "      [   _,4,5,   _,8,_,   _,_,_   ],\n",
        "      [   9,_,8,   _,_,_,   7,_,2   ],\n",
        "      [   _,_,_,   _,6,_,   5,4,_   ],\n",
        "\n",
        "      [   _,8,_,   _,7,_,   2,_,_   ],\n",
        "      [   2,_,_,   _,4,3,   6,_,_   ],\n",
        "      [   _,9,_,   _,_,_,   _,7,_   ],\n",
        "    ]\n",
        "  puzzle_rels = []\n",
        "  for row_index, row in enumerate(puzzle) :\n",
        "    for column_index, entry in enumerate(row) :\n",
        "      if entry is not -1 :\n",
        "        puzzle_rels.append(\n",
        "          IS_ONE(factoid_var_name(entry, \"is at\", column_index + 1,\n",
        "                                                     row_index + 1 )))\n",
        "  return puzzle_rels"
      ],
      "execution_count": null,
      "outputs": []
    },
    {
      "cell_type": "code",
      "metadata": {
        "id": "VbeC2cqrDfNq"
      },
      "source": [
        "do_exclusions_on_network( prepare_network(big_blank_sudoku_network()),\n",
        "                          puzzle_2_rels(),\n",
        "                          visualizer = sudoku_callback\n",
        ");"
      ],
      "execution_count": null,
      "outputs": []
    },
    {
      "cell_type": "markdown",
      "metadata": {
        "id": "H_aTwY56bhUv"
      },
      "source": [
        "We see the inference got stuck, kind of similar to how anybody can get stuck while working on a sudoku puzzle."
      ]
    },
    {
      "cell_type": "code",
      "metadata": {
        "id": "C6lolbvP1Jjt"
      },
      "source": [
        "do_exclusions_on_network( prepare_network(big_blank_sudoku_network()),\n",
        "                          puzzle_2_rels() + [ IS_ONE(factoid_var_name(1,\"is at\",4,4)) ],\n",
        "                          visualizer = sudoku_callback\n",
        ");"
      ],
      "execution_count": null,
      "outputs": []
    },
    {
      "cell_type": "markdown",
      "metadata": {
        "id": "Yl3efLLw1w8-"
      },
      "source": [
        "So one guess is enough to solve it!\n",
        "\n",
        "It was a lucky guess.  Would alternative guesses make it fail?"
      ]
    },
    {
      "cell_type": "markdown",
      "metadata": {
        "id": "r9XYHP5F61nU"
      },
      "source": [
        "### --- Part 4 (d) --- A super-hard puzzle, \"Everest\", by Arto Inkala"
      ]
    },
    {
      "cell_type": "code",
      "metadata": {
        "id": "75OR5Ld7JSaR"
      },
      "source": [
        "def puzzle_3_rels():\n",
        "  _ = -1\n",
        "  puzzle = [\n",
        "      [   8,_,_,   _,_,_,   _,_,_   ],\n",
        "      [   _,_,3,   6,_,_,   _,_,_   ],\n",
        "      [   _,7,_,   _,9,_,   2,_,_   ],\n",
        "\n",
        "      [   _,5,_,   _,_,7,   _,_,_   ],\n",
        "      [   _,_,_,   _,4,5,   7,_,_   ],\n",
        "      [   _,_,_,   1,_,_,   _,3,_   ],\n",
        "\n",
        "      [   _,_,1,   _,_,_,   _,6,8   ],\n",
        "      [   _,_,8,   5,_,_,   _,1,_   ],\n",
        "      [   _,9,_,   _,_,_,   4,_,_   ],\n",
        "    ]\n",
        "  puzzle_rels = []\n",
        "  for row_index, row in enumerate(puzzle) :\n",
        "    for column_index, entry in enumerate(row) :\n",
        "      if entry is not -1 :\n",
        "        puzzle_rels.append(\n",
        "          IS_ONE(factoid_var_name(entry, \"is at\", column_index + 1,\n",
        "                                                     row_index + 1 )))\n",
        "  return puzzle_rels"
      ],
      "execution_count": null,
      "outputs": []
    },
    {
      "cell_type": "code",
      "metadata": {
        "id": "Y0k4y4pAKTDe"
      },
      "source": [
        "do_exclusions_on_network( prepare_network(big_blank_sudoku_network()),\n",
        "                          puzzle_3_rels(),\n",
        "                          visualizer = sudoku_callback\n",
        ");"
      ],
      "execution_count": null,
      "outputs": []
    },
    {
      "cell_type": "markdown",
      "metadata": {
        "id": "01O34SILK9IK"
      },
      "source": [
        "How much did the inference engine figure out?"
      ]
    },
    {
      "cell_type": "markdown",
      "metadata": {
        "id": "HJUtAi_ArgWP"
      },
      "source": [
        "Can you write a backtracking search algorithm to find the solution and report how big of a search tree it needed?  (How deep and how many leaves?)"
      ]
    }
  ]
}